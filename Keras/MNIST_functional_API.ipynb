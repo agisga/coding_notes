{
 "cells": [
  {
   "cell_type": "markdown",
   "metadata": {},
   "source": [
    "# Handwritten digit recognition with Keras"
   ]
  },
  {
   "cell_type": "code",
   "execution_count": 54,
   "metadata": {
    "scrolled": true
   },
   "outputs": [],
   "source": [
    "import keras\n",
    "from keras.datasets import mnist\n",
    "from keras.models import Model\n",
    "from keras.layers import Input, Dense, Dropout, Activation, Flatten\n",
    "from keras.layers import Conv2D, MaxPooling2D\n",
    "from keras.optimizers import SGD, RMSprop\n",
    "\n",
    "import numpy as np\n",
    "from matplotlib import pyplot as plt\n",
    "%matplotlib inline"
   ]
  },
  {
   "cell_type": "markdown",
   "metadata": {},
   "source": [
    "## The MNIST Data"
   ]
  },
  {
   "cell_type": "markdown",
   "metadata": {},
   "source": [
    "Get the data:"
   ]
  },
  {
   "cell_type": "code",
   "execution_count": 38,
   "metadata": {
    "scrolled": true
   },
   "outputs": [],
   "source": [
    "# the data, split between train and test sets\n",
    "(x_train, y_train), (x_test, y_test) = mnist.load_data()"
   ]
  },
  {
   "cell_type": "markdown",
   "metadata": {},
   "source": [
    "Check the dimensions:"
   ]
  },
  {
   "cell_type": "code",
   "execution_count": 3,
   "metadata": {
    "scrolled": true
   },
   "outputs": [
    {
     "name": "stdout",
     "output_type": "stream",
     "text": [
      "(60000, 28, 28)\n",
      "(60000,)\n",
      "(10000, 28, 28)\n",
      "(10000,)\n"
     ]
    }
   ],
   "source": [
    "print(x_train.shape)\n",
    "print(y_train.shape)\n",
    "print(x_test.shape)\n",
    "print(y_test.shape)"
   ]
  },
  {
   "cell_type": "markdown",
   "metadata": {},
   "source": [
    "Look at a couple example images:"
   ]
  },
  {
   "cell_type": "code",
   "execution_count": 4,
   "metadata": {
    "scrolled": false
   },
   "outputs": [
    {
     "data": {
      "image/png": "[encoded data removed]",
      "text/plain": [
       "<Figure size 864x432 with 6 Axes>"
      ]
     },
     "metadata": {},
     "output_type": "display_data"
    }
   ],
   "source": [
    "f = plt.figure(figsize=(12,6))\n",
    "for i in range(6):\n",
    "    sp = f.add_subplot(2, 3, i+1)\n",
    "    sp.axis('Off')\n",
    "    sp.set_title(y_train[i], fontsize=16)\n",
    "    plt.imshow(x_train[i], cmap='gray')"
   ]
  },
  {
   "cell_type": "markdown",
   "metadata": {},
   "source": [
    "Vectorize the images, and rescale them into a [0,1] range:"
   ]
  },
  {
   "cell_type": "code",
   "execution_count": 39,
   "metadata": {
    "scrolled": true
   },
   "outputs": [
    {
     "name": "stdout",
     "output_type": "stream",
     "text": [
      "60000 train samples\n",
      "10000 test samples\n"
     ]
    }
   ],
   "source": [
    "x_train = x_train.reshape(60000, 784)\n",
    "x_test = x_test.reshape(10000, 784)\n",
    "x_train = x_train.astype('float32')\n",
    "x_test = x_test.astype('float32')\n",
    "x_train /= 255\n",
    "x_test /= 255\n",
    "print(x_train.shape[0], 'train samples')\n",
    "print(x_test.shape[0], 'test samples')"
   ]
  },
  {
   "cell_type": "markdown",
   "metadata": {},
   "source": [
    "Convert class vectors to one-hot-encoded class matrices:"
   ]
  },
  {
   "cell_type": "code",
   "execution_count": 40,
   "metadata": {
    "scrolled": true
   },
   "outputs": [
    {
     "data": {
      "text/plain": [
       "array([[0., 0., 0., 0., 0., 1., 0., 0., 0., 0.],\n",
       "       [1., 0., 0., 0., 0., 0., 0., 0., 0., 0.],\n",
       "       [0., 0., 0., 0., 1., 0., 0., 0., 0., 0.]])"
      ]
     },
     "execution_count": 40,
     "metadata": {},
     "output_type": "execute_result"
    }
   ],
   "source": [
    "num_classes = 10\n",
    "\n",
    "y_train = keras.utils.to_categorical(y_train, num_classes)\n",
    "y_test = keras.utils.to_categorical(y_test, num_classes)\n",
    "\n",
    "y_train[:3,]"
   ]
  },
  {
   "cell_type": "markdown",
   "metadata": {},
   "source": [
    "## Neural network with a single hidden layer"
   ]
  },
  {
   "cell_type": "code",
   "execution_count": 14,
   "metadata": {
    "scrolled": true
   },
   "outputs": [
    {
     "name": "stdout",
     "output_type": "stream",
     "text": [
      "_________________________________________________________________\n",
      "Layer (type)                 Output Shape              Param #   \n",
      "=================================================================\n",
      "input_2 (InputLayer)         (None, 784)               0         \n",
      "_________________________________________________________________\n",
      "dense_3 (Dense)              (None, 15)                11775     \n",
      "_________________________________________________________________\n",
      "dense_4 (Dense)              (None, 10)                160       \n",
      "=================================================================\n",
      "Total params: 11,935\n",
      "Trainable params: 11,935\n",
      "Non-trainable params: 0\n",
      "_________________________________________________________________\n"
     ]
    }
   ],
   "source": [
    "# This returns a tensor\n",
    "inputs = Input(shape=(784,))\n",
    "\n",
    "# a layer instance is callable on a tensor, and returns a tensor\n",
    "x = Dense(15, activation='sigmoid')(inputs)\n",
    "predictions = Dense(10, activation='softmax')(x)\n",
    "\n",
    "# This creates a model that includes\n",
    "# the Input layer and two Dense layers\n",
    "model1 = Model(inputs=inputs, outputs=predictions)\n",
    "\n",
    "model1.summary()"
   ]
  },
  {
   "cell_type": "markdown",
   "metadata": {},
   "source": [
    "Compile and fit the model:"
   ]
  },
  {
   "cell_type": "code",
   "execution_count": 15,
   "metadata": {
    "scrolled": false
   },
   "outputs": [
    {
     "name": "stdout",
     "output_type": "stream",
     "text": [
      "Train on 60000 samples, validate on 10000 samples\n",
      "Epoch 1/20\n",
      "60000/60000 [==============================] - 4s 73us/step - loss: 0.0873 - acc: 0.3241 - val_loss: 0.0831 - val_acc: 0.4473\n",
      "Epoch 2/20\n",
      "60000/60000 [==============================] - 5s 75us/step - loss: 0.0779 - acc: 0.5181 - val_loss: 0.0716 - val_acc: 0.5766\n",
      "Epoch 3/20\n",
      "60000/60000 [==============================] - 5s 75us/step - loss: 0.0654 - acc: 0.6071 - val_loss: 0.0592 - val_acc: 0.6311\n",
      "Epoch 4/20\n",
      "60000/60000 [==============================] - 5s 75us/step - loss: 0.0544 - acc: 0.6547 - val_loss: 0.0496 - val_acc: 0.6818\n",
      "Epoch 5/20\n",
      "60000/60000 [==============================] - 4s 75us/step - loss: 0.0464 - acc: 0.7127 - val_loss: 0.0429 - val_acc: 0.7495\n",
      "Epoch 6/20\n",
      "60000/60000 [==============================] - 5s 75us/step - loss: 0.0406 - acc: 0.7694 - val_loss: 0.0377 - val_acc: 0.7916\n",
      "Epoch 7/20\n",
      "60000/60000 [==============================] - 5s 75us/step - loss: 0.0361 - acc: 0.7945 - val_loss: 0.0336 - val_acc: 0.8126\n",
      "Epoch 8/20\n",
      "60000/60000 [==============================] - 4s 75us/step - loss: 0.0323 - acc: 0.8205 - val_loss: 0.0301 - val_acc: 0.8492\n",
      "Epoch 9/20\n",
      "60000/60000 [==============================] - 5s 75us/step - loss: 0.0291 - acc: 0.8533 - val_loss: 0.0271 - val_acc: 0.8691\n",
      "Epoch 10/20\n",
      "60000/60000 [==============================] - 5s 76us/step - loss: 0.0265 - acc: 0.8700 - val_loss: 0.0247 - val_acc: 0.8804\n",
      "Epoch 11/20\n",
      "60000/60000 [==============================] - 5s 75us/step - loss: 0.0244 - acc: 0.8780 - val_loss: 0.0229 - val_acc: 0.8851\n",
      "Epoch 12/20\n",
      "60000/60000 [==============================] - 5s 75us/step - loss: 0.0227 - acc: 0.8832 - val_loss: 0.0214 - val_acc: 0.8897\n",
      "Epoch 13/20\n",
      "60000/60000 [==============================] - 5s 75us/step - loss: 0.0214 - acc: 0.8871 - val_loss: 0.0203 - val_acc: 0.8944\n",
      "Epoch 14/20\n",
      "60000/60000 [==============================] - 5s 75us/step - loss: 0.0204 - acc: 0.8902 - val_loss: 0.0193 - val_acc: 0.8963\n",
      "Epoch 15/20\n",
      "60000/60000 [==============================] - 5s 75us/step - loss: 0.0195 - acc: 0.8928 - val_loss: 0.0185 - val_acc: 0.8988\n",
      "Epoch 16/20\n",
      "60000/60000 [==============================] - 5s 75us/step - loss: 0.0188 - acc: 0.8948 - val_loss: 0.0179 - val_acc: 0.8998\n",
      "Epoch 17/20\n",
      "60000/60000 [==============================] - 5s 76us/step - loss: 0.0182 - acc: 0.8973 - val_loss: 0.0173 - val_acc: 0.9006\n",
      "Epoch 18/20\n",
      "60000/60000 [==============================] - 5s 76us/step - loss: 0.0176 - acc: 0.8987 - val_loss: 0.0168 - val_acc: 0.9019\n",
      "Epoch 19/20\n",
      "60000/60000 [==============================] - 5s 75us/step - loss: 0.0172 - acc: 0.9009 - val_loss: 0.0164 - val_acc: 0.9032\n",
      "Epoch 20/20\n",
      "60000/60000 [==============================] - 5s 75us/step - loss: 0.0167 - acc: 0.9027 - val_loss: 0.0161 - val_acc: 0.9051\n"
     ]
    },
    {
     "data": {
      "text/plain": [
       "<keras.callbacks.History at 0x7fd4fad97898>"
      ]
     },
     "execution_count": 15,
     "metadata": {},
     "output_type": "execute_result"
    }
   ],
   "source": [
    "sgd = SGD(lr=0.01, decay=1e-6, momentum=0.9, nesterov=True)\n",
    "\n",
    "model1.compile(optimizer=sgd,\n",
    "               loss='mean_squared_error',\n",
    "               metrics=['accuracy'])\n",
    "\n",
    "model1.fit(x_train, y_train, batch_size=32, epochs=20, verbose=1, validation_data=(x_test, y_test))"
   ]
  },
  {
   "cell_type": "markdown",
   "metadata": {},
   "source": [
    "Check the score on test data:"
   ]
  },
  {
   "cell_type": "code",
   "execution_count": 16,
   "metadata": {
    "scrolled": true
   },
   "outputs": [
    {
     "name": "stdout",
     "output_type": "stream",
     "text": [
      "Mean squared error on the test data: 0.016053995117545128\n",
      "Test accuracy: 0.9051\n"
     ]
    }
   ],
   "source": [
    "score = model1.evaluate(x_test, y_test, verbose=0)\n",
    "print('Mean squared error on the test data:', score[0])\n",
    "print('Test accuracy:', score[1])"
   ]
  },
  {
   "cell_type": "markdown",
   "metadata": {},
   "source": [
    "Look at some of the missclassified images:"
   ]
  },
  {
   "cell_type": "code",
   "execution_count": 17,
   "metadata": {
    "scrolled": false
   },
   "outputs": [
    {
     "name": "stdout",
     "output_type": "stream",
     "text": [
      "Missclassified: 949 / 10000\n"
     ]
    },
    {
     "data": {
      "image/png": "[encoded data removed]",
      "text/plain": [
       "<Figure size 864x432 with 6 Axes>"
      ]
     },
     "metadata": {},
     "output_type": "display_data"
    }
   ],
   "source": [
    "def display_first_6_missclassified(model):\n",
    "    test_pred = model.predict(x_test)\n",
    "    n_test = x_test.shape[0]\n",
    "    misclassified = []\n",
    "\n",
    "    for i in range(n_test):\n",
    "        if np.argmax(test_pred[i, :]) != np.argmax(y_test[i, :]):\n",
    "            misclassified.append(i)\n",
    "        \n",
    "    print(\"Missclassified: {} / {}\".format(len(misclassified), n_test))\n",
    "\n",
    "    first_6_misclassified = misclassified[:6]\n",
    "\n",
    "    f = plt.figure(figsize=(12,6))\n",
    "    for i in range(6):\n",
    "        sp = f.add_subplot(2, 3, i+1)\n",
    "        img_id = first_6_misclassified[i]\n",
    "        sp.axis('Off')\n",
    "        pred_class = np.argmax(test_pred[img_id, :])\n",
    "        max_prob = np.max(test_pred[img_id, :])\n",
    "        ground_truth = np.argmax(y_test[img_id, :])\n",
    "        sp.set_title(\"truth: {}, pred: {}, prob: {:.4f}\".format(ground_truth, pred_class, max_prob), fontsize=12)\n",
    "        plt.imshow(x_test[img_id].reshape(28, 28), cmap='gray')\n",
    "        \n",
    "\n",
    "display_first_6_missclassified(model1)"
   ]
  },
  {
   "cell_type": "markdown",
   "metadata": {},
   "source": [
    "## Add a couple more layers to the model"
   ]
  },
  {
   "cell_type": "markdown",
   "metadata": {},
   "source": [
    "![Stack moar layers](https://i.redd.it/5193db0avbey.jpg)"
   ]
  },
  {
   "cell_type": "code",
   "execution_count": 22,
   "metadata": {
    "scrolled": false
   },
   "outputs": [
    {
     "name": "stdout",
     "output_type": "stream",
     "text": [
      "_________________________________________________________________\n",
      "Layer (type)                 Output Shape              Param #   \n",
      "=================================================================\n",
      "input_5 (InputLayer)         (None, 784)               0         \n",
      "_________________________________________________________________\n",
      "dense_12 (Dense)             (None, 64)                50240     \n",
      "_________________________________________________________________\n",
      "dense_13 (Dense)             (None, 64)                4160      \n",
      "_________________________________________________________________\n",
      "dense_14 (Dense)             (None, 64)                4160      \n",
      "_________________________________________________________________\n",
      "dense_15 (Dense)             (None, 10)                650       \n",
      "=================================================================\n",
      "Total params: 59,210\n",
      "Trainable params: 59,210\n",
      "Non-trainable params: 0\n",
      "_________________________________________________________________\n"
     ]
    }
   ],
   "source": [
    "inputs = Input(shape=(784,))\n",
    "\n",
    "x = Dense(64, activation='sigmoid')(inputs)\n",
    "x = Dense(64, activation='sigmoid')(x)\n",
    "x = Dense(64, activation='sigmoid')(x)\n",
    "predictions = Dense(10, activation='softmax')(x)\n",
    "\n",
    "model2 = Model(inputs=inputs, outputs=predictions)\n",
    "\n",
    "model2.summary()"
   ]
  },
  {
   "cell_type": "code",
   "execution_count": 23,
   "metadata": {
    "scrolled": true
   },
   "outputs": [
    {
     "name": "stdout",
     "output_type": "stream",
     "text": [
      "Train on 60000 samples, validate on 10000 samples\n",
      "Epoch 1/40\n",
      "60000/60000 [==============================] - 1s 25us/step - loss: 0.0901 - acc: 0.1141 - val_loss: 0.0899 - val_acc: 0.1135\n",
      "Epoch 2/40\n",
      "60000/60000 [==============================] - 1s 22us/step - loss: 0.0899 - acc: 0.1167 - val_loss: 0.0898 - val_acc: 0.1135\n",
      "Epoch 3/40\n",
      "60000/60000 [==============================] - 1s 24us/step - loss: 0.0898 - acc: 0.1233 - val_loss: 0.0897 - val_acc: 0.1135\n",
      "Epoch 4/40\n",
      "60000/60000 [==============================] - 1s 24us/step - loss: 0.0896 - acc: 0.1362 - val_loss: 0.0895 - val_acc: 0.1162\n",
      "Epoch 5/40\n",
      "60000/60000 [==============================] - 1s 24us/step - loss: 0.0894 - acc: 0.1615 - val_loss: 0.0893 - val_acc: 0.1180\n",
      "Epoch 6/40\n",
      "60000/60000 [==============================] - 1s 24us/step - loss: 0.0891 - acc: 0.1928 - val_loss: 0.0889 - val_acc: 0.2562\n",
      "Epoch 7/40\n",
      "60000/60000 [==============================] - 1s 24us/step - loss: 0.0885 - acc: 0.2576 - val_loss: 0.0880 - val_acc: 0.2486\n",
      "Epoch 8/40\n",
      "60000/60000 [==============================] - 1s 24us/step - loss: 0.0871 - acc: 0.2831 - val_loss: 0.0854 - val_acc: 0.2878\n",
      "Epoch 9/40\n",
      "60000/60000 [==============================] - 1s 24us/step - loss: 0.0816 - acc: 0.2956 - val_loss: 0.0763 - val_acc: 0.3036\n",
      "Epoch 10/40\n",
      "60000/60000 [==============================] - 1s 24us/step - loss: 0.0719 - acc: 0.3556 - val_loss: 0.0675 - val_acc: 0.4021\n",
      "Epoch 11/40\n",
      "60000/60000 [==============================] - 1s 24us/step - loss: 0.0638 - acc: 0.4721 - val_loss: 0.0600 - val_acc: 0.5084\n",
      "Epoch 12/40\n",
      "60000/60000 [==============================] - 1s 24us/step - loss: 0.0564 - acc: 0.5637 - val_loss: 0.0525 - val_acc: 0.5885\n",
      "Epoch 13/40\n",
      "60000/60000 [==============================] - 1s 24us/step - loss: 0.0484 - acc: 0.6505 - val_loss: 0.0440 - val_acc: 0.6973\n",
      "Epoch 14/40\n",
      "60000/60000 [==============================] - 1s 24us/step - loss: 0.0403 - acc: 0.7532 - val_loss: 0.0361 - val_acc: 0.7925\n",
      "Epoch 15/40\n",
      "60000/60000 [==============================] - 1s 24us/step - loss: 0.0330 - acc: 0.8114 - val_loss: 0.0292 - val_acc: 0.8340\n",
      "Epoch 16/40\n",
      "60000/60000 [==============================] - 1s 24us/step - loss: 0.0273 - acc: 0.8404 - val_loss: 0.0246 - val_acc: 0.8522\n",
      "Epoch 17/40\n",
      "60000/60000 [==============================] - 1s 24us/step - loss: 0.0237 - acc: 0.8570 - val_loss: 0.0220 - val_acc: 0.8620\n",
      "Epoch 18/40\n",
      "60000/60000 [==============================] - 1s 24us/step - loss: 0.0215 - acc: 0.8673 - val_loss: 0.0201 - val_acc: 0.8729\n",
      "Epoch 19/40\n",
      "60000/60000 [==============================] - 1s 24us/step - loss: 0.0200 - acc: 0.8759 - val_loss: 0.0189 - val_acc: 0.8803\n",
      "Epoch 20/40\n",
      "60000/60000 [==============================] - 1s 24us/step - loss: 0.0188 - acc: 0.8817 - val_loss: 0.0179 - val_acc: 0.8847\n",
      "Epoch 21/40\n",
      "60000/60000 [==============================] - 1s 24us/step - loss: 0.0179 - acc: 0.8871 - val_loss: 0.0171 - val_acc: 0.8886\n",
      "Epoch 22/40\n",
      "60000/60000 [==============================] - 1s 24us/step - loss: 0.0172 - acc: 0.8912 - val_loss: 0.0165 - val_acc: 0.8918\n",
      "Epoch 23/40\n",
      "60000/60000 [==============================] - 1s 24us/step - loss: 0.0165 - acc: 0.8945 - val_loss: 0.0158 - val_acc: 0.8966\n",
      "Epoch 24/40\n",
      "60000/60000 [==============================] - 1s 24us/step - loss: 0.0159 - acc: 0.8983 - val_loss: 0.0154 - val_acc: 0.8998\n",
      "Epoch 25/40\n",
      "60000/60000 [==============================] - 1s 24us/step - loss: 0.0154 - acc: 0.9018 - val_loss: 0.0148 - val_acc: 0.9037\n",
      "Epoch 26/40\n",
      "60000/60000 [==============================] - 1s 24us/step - loss: 0.0148 - acc: 0.9052 - val_loss: 0.0144 - val_acc: 0.9059\n",
      "Epoch 27/40\n",
      "60000/60000 [==============================] - 1s 24us/step - loss: 0.0144 - acc: 0.9087 - val_loss: 0.0139 - val_acc: 0.9104\n",
      "Epoch 28/40\n",
      "60000/60000 [==============================] - 1s 24us/step - loss: 0.0139 - acc: 0.9111 - val_loss: 0.0135 - val_acc: 0.9123\n",
      "Epoch 29/40\n",
      "60000/60000 [==============================] - 1s 24us/step - loss: 0.0135 - acc: 0.9146 - val_loss: 0.0132 - val_acc: 0.9135\n",
      "Epoch 30/40\n",
      "60000/60000 [==============================] - 1s 24us/step - loss: 0.0131 - acc: 0.9168 - val_loss: 0.0127 - val_acc: 0.9172\n",
      "Epoch 31/40\n",
      "60000/60000 [==============================] - 1s 24us/step - loss: 0.0127 - acc: 0.9194 - val_loss: 0.0124 - val_acc: 0.9185\n",
      "Epoch 32/40\n",
      "60000/60000 [==============================] - 1s 24us/step - loss: 0.0123 - acc: 0.9215 - val_loss: 0.0121 - val_acc: 0.9212\n",
      "Epoch 33/40\n",
      "60000/60000 [==============================] - 1s 24us/step - loss: 0.0119 - acc: 0.9236 - val_loss: 0.0117 - val_acc: 0.9243\n",
      "Epoch 34/40\n",
      "60000/60000 [==============================] - 1s 24us/step - loss: 0.0116 - acc: 0.9262 - val_loss: 0.0115 - val_acc: 0.9258\n",
      "Epoch 35/40\n",
      "60000/60000 [==============================] - 1s 24us/step - loss: 0.0113 - acc: 0.9282 - val_loss: 0.0112 - val_acc: 0.9280\n",
      "Epoch 36/40\n",
      "60000/60000 [==============================] - 1s 24us/step - loss: 0.0110 - acc: 0.9302 - val_loss: 0.0109 - val_acc: 0.9291\n",
      "Epoch 37/40\n",
      "60000/60000 [==============================] - 1s 24us/step - loss: 0.0107 - acc: 0.9322 - val_loss: 0.0107 - val_acc: 0.9313\n",
      "Epoch 38/40\n",
      "60000/60000 [==============================] - 1s 24us/step - loss: 0.0104 - acc: 0.9336 - val_loss: 0.0105 - val_acc: 0.9324\n",
      "Epoch 39/40\n",
      "60000/60000 [==============================] - 1s 24us/step - loss: 0.0102 - acc: 0.9351 - val_loss: 0.0103 - val_acc: 0.9342\n",
      "Epoch 40/40\n",
      "60000/60000 [==============================] - 1s 24us/step - loss: 0.0099 - acc: 0.9372 - val_loss: 0.0100 - val_acc: 0.9355\n"
     ]
    },
    {
     "data": {
      "text/plain": [
       "<keras.callbacks.History at 0x7fd4fae00b38>"
      ]
     },
     "execution_count": 23,
     "metadata": {},
     "output_type": "execute_result"
    }
   ],
   "source": [
    "sgd = SGD(lr=0.1, decay=1e-6, momentum=0.9, nesterov=True) # 10x the learning rate of last model\n",
    "\n",
    "model2.compile(loss='mean_squared_error',\n",
    "               optimizer=sgd,\n",
    "               metrics=['accuracy'])\n",
    "\n",
    "model2.fit(x_train, y_train, batch_size=128, epochs=40, verbose=1, validation_data=(x_test, y_test))"
   ]
  },
  {
   "cell_type": "markdown",
   "metadata": {},
   "source": [
    "Lower the learning rate and train some more:"
   ]
  },
  {
   "cell_type": "code",
   "execution_count": 24,
   "metadata": {
    "scrolled": true
   },
   "outputs": [
    {
     "name": "stdout",
     "output_type": "stream",
     "text": [
      "Train on 60000 samples, validate on 10000 samples\n",
      "Epoch 1/20\n",
      "60000/60000 [==============================] - 1s 23us/step - loss: 0.0097 - acc: 0.9384 - val_loss: 0.0097 - val_acc: 0.9364\n",
      "Epoch 2/20\n",
      "60000/60000 [==============================] - 1s 22us/step - loss: 0.0095 - acc: 0.9402 - val_loss: 0.0096 - val_acc: 0.9374\n",
      "Epoch 3/20\n",
      "60000/60000 [==============================] - 1s 24us/step - loss: 0.0092 - acc: 0.9413 - val_loss: 0.0094 - val_acc: 0.9393\n",
      "Epoch 4/20\n",
      "60000/60000 [==============================] - 1s 24us/step - loss: 0.0090 - acc: 0.9427 - val_loss: 0.0092 - val_acc: 0.9407\n",
      "Epoch 5/20\n",
      "60000/60000 [==============================] - 1s 24us/step - loss: 0.0088 - acc: 0.9443 - val_loss: 0.0091 - val_acc: 0.9415\n",
      "Epoch 6/20\n",
      "60000/60000 [==============================] - 1s 24us/step - loss: 0.0086 - acc: 0.9461 - val_loss: 0.0089 - val_acc: 0.9423\n",
      "Epoch 7/20\n",
      "60000/60000 [==============================] - 1s 24us/step - loss: 0.0084 - acc: 0.9471 - val_loss: 0.0088 - val_acc: 0.9439\n",
      "Epoch 8/20\n",
      "60000/60000 [==============================] - 1s 24us/step - loss: 0.0082 - acc: 0.9486 - val_loss: 0.0086 - val_acc: 0.9443\n",
      "Epoch 9/20\n",
      "60000/60000 [==============================] - 1s 24us/step - loss: 0.0081 - acc: 0.9499 - val_loss: 0.0085 - val_acc: 0.9456\n",
      "Epoch 10/20\n",
      "60000/60000 [==============================] - 1s 24us/step - loss: 0.0079 - acc: 0.9510 - val_loss: 0.0083 - val_acc: 0.9463\n",
      "Epoch 11/20\n",
      "60000/60000 [==============================] - 1s 24us/step - loss: 0.0077 - acc: 0.9523 - val_loss: 0.0082 - val_acc: 0.9474\n",
      "Epoch 12/20\n",
      "60000/60000 [==============================] - 1s 24us/step - loss: 0.0076 - acc: 0.9530 - val_loss: 0.0080 - val_acc: 0.9472\n",
      "Epoch 13/20\n",
      "60000/60000 [==============================] - 1s 24us/step - loss: 0.0074 - acc: 0.9542 - val_loss: 0.0079 - val_acc: 0.9495\n",
      "Epoch 14/20\n",
      "60000/60000 [==============================] - 1s 24us/step - loss: 0.0073 - acc: 0.9553 - val_loss: 0.0079 - val_acc: 0.9495\n",
      "Epoch 15/20\n",
      "60000/60000 [==============================] - 1s 24us/step - loss: 0.0072 - acc: 0.9561 - val_loss: 0.0077 - val_acc: 0.9505\n",
      "Epoch 16/20\n",
      "60000/60000 [==============================] - 1s 24us/step - loss: 0.0070 - acc: 0.9570 - val_loss: 0.0075 - val_acc: 0.9510\n",
      "Epoch 17/20\n",
      "60000/60000 [==============================] - 1s 24us/step - loss: 0.0069 - acc: 0.9579 - val_loss: 0.0074 - val_acc: 0.9521\n",
      "Epoch 18/20\n",
      "60000/60000 [==============================] - 1s 24us/step - loss: 0.0068 - acc: 0.9587 - val_loss: 0.0074 - val_acc: 0.9506\n",
      "Epoch 19/20\n",
      "60000/60000 [==============================] - 1s 24us/step - loss: 0.0067 - acc: 0.9595 - val_loss: 0.0072 - val_acc: 0.9527\n",
      "Epoch 20/20\n",
      "60000/60000 [==============================] - 1s 24us/step - loss: 0.0065 - acc: 0.9606 - val_loss: 0.0072 - val_acc: 0.9538\n"
     ]
    },
    {
     "data": {
      "text/plain": [
       "<keras.callbacks.History at 0x7fd4ec619518>"
      ]
     },
     "execution_count": 24,
     "metadata": {},
     "output_type": "execute_result"
    }
   ],
   "source": [
    "sgd = SGD(lr=0.01, decay=1e-6, momentum=0.9, nesterov=True) # lower the learning rate\n",
    "\n",
    "model2.fit(x_train, y_train, batch_size=128, epochs=20, verbose=1, validation_data=(x_test, y_test))"
   ]
  },
  {
   "cell_type": "code",
   "execution_count": 25,
   "metadata": {
    "scrolled": true
   },
   "outputs": [
    {
     "name": "stdout",
     "output_type": "stream",
     "text": [
      "Mean squared error on the test data: 0.007170853802200872\n",
      "Test accuracy: 0.9538\n"
     ]
    }
   ],
   "source": [
    "score = model2.evaluate(x_test, y_test, verbose=0)\n",
    "print('Mean squared error on the test data:', score[0])\n",
    "print('Test accuracy:', score[1])"
   ]
  },
  {
   "cell_type": "code",
   "execution_count": 26,
   "metadata": {},
   "outputs": [
    {
     "name": "stdout",
     "output_type": "stream",
     "text": [
      "Missclassified: 462 / 10000\n"
     ]
    },
    {
     "data": {
      "image/png": "[encoded data removed]",
      "text/plain": [
       "<Figure size 864x432 with 6 Axes>"
      ]
     },
     "metadata": {},
     "output_type": "display_data"
    }
   ],
   "source": [
    "display_first_6_missclassified(model2)"
   ]
  },
  {
   "cell_type": "markdown",
   "metadata": {},
   "source": [
    "## Categorical crossentropy, ReLU activations, dropout, RMSProp optimizer"
   ]
  },
  {
   "cell_type": "markdown",
   "metadata": {},
   "source": [
    "Build the model:"
   ]
  },
  {
   "cell_type": "code",
   "execution_count": 41,
   "metadata": {
    "scrolled": false
   },
   "outputs": [
    {
     "name": "stdout",
     "output_type": "stream",
     "text": [
      "_________________________________________________________________\n",
      "Layer (type)                 Output Shape              Param #   \n",
      "=================================================================\n",
      "input_10 (InputLayer)        (None, 784)               0         \n",
      "_________________________________________________________________\n",
      "dense_32 (Dense)             (None, 512)               401920    \n",
      "_________________________________________________________________\n",
      "dropout_13 (Dropout)         (None, 512)               0         \n",
      "_________________________________________________________________\n",
      "dense_33 (Dense)             (None, 256)               131328    \n",
      "_________________________________________________________________\n",
      "dropout_14 (Dropout)         (None, 256)               0         \n",
      "_________________________________________________________________\n",
      "dense_34 (Dense)             (None, 128)               32896     \n",
      "_________________________________________________________________\n",
      "dropout_15 (Dropout)         (None, 128)               0         \n",
      "_________________________________________________________________\n",
      "dense_35 (Dense)             (None, 10)                1290      \n",
      "=================================================================\n",
      "Total params: 567,434\n",
      "Trainable params: 567,434\n",
      "Non-trainable params: 0\n",
      "_________________________________________________________________\n"
     ]
    }
   ],
   "source": [
    "inputs = Input(shape=(784,))\n",
    "x = Dense(512, activation='relu')(inputs)\n",
    "x = Dropout(0.4)(x)\n",
    "x = Dense(256, activation='relu')(x)\n",
    "x = Dropout(0.4)(x)\n",
    "x = Dense(128, activation='relu')(x)\n",
    "x = Dropout(0.4)(x)\n",
    "predictions = Dense(10, activation='softmax')(x)\n",
    "\n",
    "model3 = Model(inputs=inputs, outputs=predictions)\n",
    "\n",
    "model3.summary()"
   ]
  },
  {
   "cell_type": "code",
   "execution_count": 42,
   "metadata": {
    "scrolled": true
   },
   "outputs": [
    {
     "name": "stdout",
     "output_type": "stream",
     "text": [
      "Train on 60000 samples, validate on 10000 samples\n",
      "Epoch 1/20\n",
      "60000/60000 [==============================] - 2s 40us/step - loss: 0.3954 - acc: 0.8797 - val_loss: 0.1287 - val_acc: 0.9606\n",
      "Epoch 2/20\n",
      "60000/60000 [==============================] - 2s 32us/step - loss: 0.1760 - acc: 0.9499 - val_loss: 0.1108 - val_acc: 0.9686\n",
      "Epoch 3/20\n",
      "60000/60000 [==============================] - 2s 32us/step - loss: 0.1424 - acc: 0.9612 - val_loss: 0.0886 - val_acc: 0.9760\n",
      "Epoch 4/20\n",
      "60000/60000 [==============================] - 2s 33us/step - loss: 0.1243 - acc: 0.9666 - val_loss: 0.0941 - val_acc: 0.9761\n",
      "Epoch 5/20\n",
      "60000/60000 [==============================] - 2s 32us/step - loss: 0.1092 - acc: 0.9718 - val_loss: 0.0947 - val_acc: 0.9763\n",
      "Epoch 6/20\n",
      "60000/60000 [==============================] - 2s 32us/step - loss: 0.1042 - acc: 0.9724 - val_loss: 0.0835 - val_acc: 0.9810\n",
      "Epoch 7/20\n",
      "60000/60000 [==============================] - 2s 32us/step - loss: 0.0993 - acc: 0.9755 - val_loss: 0.0895 - val_acc: 0.9794\n",
      "Epoch 8/20\n",
      "60000/60000 [==============================] - 2s 32us/step - loss: 0.0928 - acc: 0.9767 - val_loss: 0.0886 - val_acc: 0.9800\n",
      "Epoch 9/20\n",
      "60000/60000 [==============================] - 2s 32us/step - loss: 0.0906 - acc: 0.9778 - val_loss: 0.0905 - val_acc: 0.9797\n",
      "Epoch 10/20\n",
      "60000/60000 [==============================] - 2s 32us/step - loss: 0.0906 - acc: 0.9787 - val_loss: 0.0912 - val_acc: 0.9807\n",
      "Epoch 11/20\n",
      "60000/60000 [==============================] - 2s 32us/step - loss: 0.0887 - acc: 0.9792 - val_loss: 0.0920 - val_acc: 0.9824\n",
      "Epoch 12/20\n",
      "60000/60000 [==============================] - 2s 32us/step - loss: 0.0810 - acc: 0.9813 - val_loss: 0.0963 - val_acc: 0.9804\n",
      "Epoch 13/20\n",
      "60000/60000 [==============================] - 2s 32us/step - loss: 0.0805 - acc: 0.9815 - val_loss: 0.0951 - val_acc: 0.9818\n",
      "Epoch 14/20\n",
      "60000/60000 [==============================] - 2s 32us/step - loss: 0.0828 - acc: 0.9824 - val_loss: 0.1117 - val_acc: 0.9808\n",
      "Epoch 15/20\n",
      "60000/60000 [==============================] - 2s 32us/step - loss: 0.0785 - acc: 0.9825 - val_loss: 0.1023 - val_acc: 0.9817\n",
      "Epoch 16/20\n",
      "60000/60000 [==============================] - 2s 32us/step - loss: 0.0796 - acc: 0.9829 - val_loss: 0.1168 - val_acc: 0.9816\n",
      "Epoch 17/20\n",
      "60000/60000 [==============================] - 2s 32us/step - loss: 0.0807 - acc: 0.9824 - val_loss: 0.1063 - val_acc: 0.9825\n",
      "Epoch 18/20\n",
      "60000/60000 [==============================] - 2s 32us/step - loss: 0.0817 - acc: 0.9831 - val_loss: 0.1054 - val_acc: 0.9812\n",
      "Epoch 19/20\n",
      "60000/60000 [==============================] - 2s 32us/step - loss: 0.0741 - acc: 0.9839 - val_loss: 0.1108 - val_acc: 0.9821\n",
      "Epoch 20/20\n",
      "60000/60000 [==============================] - 2s 32us/step - loss: 0.0805 - acc: 0.9838 - val_loss: 0.1013 - val_acc: 0.9835\n"
     ]
    },
    {
     "data": {
      "text/plain": [
       "<keras.callbacks.History at 0x7fd4b4699cc0>"
      ]
     },
     "execution_count": 42,
     "metadata": {},
     "output_type": "execute_result"
    }
   ],
   "source": [
    "model3.compile(loss='categorical_crossentropy', optimizer=RMSprop(), metrics=['accuracy'])\n",
    "\n",
    "model3.fit(x_train, y_train,\n",
    "           batch_size=128,\n",
    "           epochs=20,\n",
    "           verbose=1,\n",
    "           validation_data=(x_test, y_test))"
   ]
  },
  {
   "cell_type": "code",
   "execution_count": 43,
   "metadata": {
    "scrolled": false
   },
   "outputs": [
    {
     "name": "stdout",
     "output_type": "stream",
     "text": [
      "Test loss: 0.10133690147251627\n",
      "Test accuracy: 0.9835\n"
     ]
    }
   ],
   "source": [
    "score = model3.evaluate(x_test, y_test, verbose=0)\n",
    "print('Test loss:', score[0])\n",
    "print('Test accuracy:', score[1])"
   ]
  },
  {
   "cell_type": "code",
   "execution_count": 44,
   "metadata": {
    "scrolled": false
   },
   "outputs": [
    {
     "name": "stdout",
     "output_type": "stream",
     "text": [
      "Missclassified: 165 / 10000\n"
     ]
    },
    {
     "data": {
      "image/png": "[encoded data removed]",
      "text/plain": [
       "<Figure size 864x432 with 6 Axes>"
      ]
     },
     "metadata": {},
     "output_type": "display_data"
    }
   ],
   "source": [
    "display_first_6_missclassified(model3)"
   ]
  },
  {
   "cell_type": "markdown",
   "metadata": {},
   "source": [
    "**This are obvious mistakes! We should be able to do better!**"
   ]
  },
  {
   "cell_type": "markdown",
   "metadata": {},
   "source": [
    "## Convolutional Neural Network"
   ]
  },
  {
   "cell_type": "markdown",
   "metadata": {},
   "source": [
    "Transform images back into 2D shape:"
   ]
  },
  {
   "cell_type": "code",
   "execution_count": 45,
   "metadata": {
    "scrolled": true
   },
   "outputs": [],
   "source": [
    "x_train = x_train.reshape(60000, 28, 28, 1)\n",
    "x_test = x_test.reshape(10000, 28, 28, 1)"
   ]
  },
  {
   "cell_type": "markdown",
   "metadata": {},
   "source": [
    "Define a VGG16 like architecture:"
   ]
  },
  {
   "cell_type": "code",
   "execution_count": 72,
   "metadata": {
    "scrolled": false
   },
   "outputs": [
    {
     "name": "stdout",
     "output_type": "stream",
     "text": [
      "_________________________________________________________________\n",
      "Layer (type)                 Output Shape              Param #   \n",
      "=================================================================\n",
      "input_25 (InputLayer)        (None, 28, 28, 1)         0         \n",
      "_________________________________________________________________\n",
      "conv2d_65 (Conv2D)           (None, 26, 26, 32)        320       \n",
      "_________________________________________________________________\n",
      "conv2d_66 (Conv2D)           (None, 24, 24, 32)        9248      \n",
      "_________________________________________________________________\n",
      "max_pooling2d_29 (MaxPooling (None, 12, 12, 32)        0         \n",
      "_________________________________________________________________\n",
      "dropout_54 (Dropout)         (None, 12, 12, 32)        0         \n",
      "_________________________________________________________________\n",
      "conv2d_67 (Conv2D)           (None, 10, 10, 64)        18496     \n",
      "_________________________________________________________________\n",
      "conv2d_68 (Conv2D)           (None, 8, 8, 64)          36928     \n",
      "_________________________________________________________________\n",
      "max_pooling2d_30 (MaxPooling (None, 4, 4, 64)          0         \n",
      "_________________________________________________________________\n",
      "dropout_55 (Dropout)         (None, 4, 4, 64)          0         \n",
      "_________________________________________________________________\n",
      "flatten_11 (Flatten)         (None, 1024)              0         \n",
      "_________________________________________________________________\n",
      "dense_56 (Dense)             (None, 256)               262400    \n",
      "_________________________________________________________________\n",
      "dropout_56 (Dropout)         (None, 256)               0         \n",
      "_________________________________________________________________\n",
      "dense_57 (Dense)             (None, 10)                2570      \n",
      "=================================================================\n",
      "Total params: 329,962\n",
      "Trainable params: 329,962\n",
      "Non-trainable params: 0\n",
      "_________________________________________________________________\n"
     ]
    }
   ],
   "source": [
    "def conv_block(inputs, filters, dropout_rate):\n",
    "    x = Conv2D(filters, (3, 3), activation='relu')(inputs)\n",
    "    x = Conv2D(filters, (3, 3), activation='relu')(x)\n",
    "    x = MaxPooling2D(pool_size=(2,2))(x)\n",
    "    x = Dropout(dropout_rate)(x)\n",
    "    return x\n",
    "\n",
    "inputs = Input(shape=(28, 28, 1))\n",
    "\n",
    "x = conv_block(inputs, 32, 0.25)\n",
    "x = conv_block(x, 64, 0.25)\n",
    "\n",
    "x = Flatten()(x)\n",
    "x = Dense(256, activation='relu')(x)\n",
    "x = Dropout(0.5)(x)\n",
    "predictions = Dense(10, activation='softmax')(x)\n",
    "\n",
    "model4 = Model(inputs=inputs, outputs=predictions)\n",
    "\n",
    "model4.summary()"
   ]
  },
  {
   "cell_type": "code",
   "execution_count": 73,
   "metadata": {
    "scrolled": false
   },
   "outputs": [
    {
     "name": "stdout",
     "output_type": "stream",
     "text": [
      "Train on 60000 samples, validate on 10000 samples\n",
      "Epoch 1/10\n",
      "60000/60000 [==============================] - 12s 202us/step - loss: 0.2594 - acc: 0.9167 - val_loss: 0.0512 - val_acc: 0.9821\n",
      "Epoch 2/10\n",
      "60000/60000 [==============================] - 11s 187us/step - loss: 0.0856 - acc: 0.9749 - val_loss: 0.0303 - val_acc: 0.9901\n",
      "Epoch 3/10\n",
      "60000/60000 [==============================] - 11s 186us/step - loss: 0.0614 - acc: 0.9812 - val_loss: 0.0240 - val_acc: 0.9922\n",
      "Epoch 4/10\n",
      "60000/60000 [==============================] - 11s 187us/step - loss: 0.0513 - acc: 0.9847 - val_loss: 0.0247 - val_acc: 0.9918\n",
      "Epoch 5/10\n",
      "60000/60000 [==============================] - 11s 187us/step - loss: 0.0469 - acc: 0.9863 - val_loss: 0.0248 - val_acc: 0.9918\n",
      "Epoch 6/10\n",
      "60000/60000 [==============================] - 11s 186us/step - loss: 0.0415 - acc: 0.9876 - val_loss: 0.0233 - val_acc: 0.9913\n",
      "Epoch 7/10\n",
      "60000/60000 [==============================] - 11s 186us/step - loss: 0.0375 - acc: 0.9893 - val_loss: 0.0199 - val_acc: 0.9937\n",
      "Epoch 8/10\n",
      "60000/60000 [==============================] - 11s 186us/step - loss: 0.0337 - acc: 0.9899 - val_loss: 0.0203 - val_acc: 0.9935\n",
      "Epoch 9/10\n",
      "60000/60000 [==============================] - 11s 187us/step - loss: 0.0314 - acc: 0.9901 - val_loss: 0.0193 - val_acc: 0.9939\n",
      "Epoch 10/10\n",
      "60000/60000 [==============================] - 11s 187us/step - loss: 0.0293 - acc: 0.9905 - val_loss: 0.0215 - val_acc: 0.9941\n"
     ]
    },
    {
     "data": {
      "text/plain": [
       "<keras.callbacks.History at 0x7fd4f55ecf28>"
      ]
     },
     "execution_count": 73,
     "metadata": {},
     "output_type": "execute_result"
    }
   ],
   "source": [
    "sgd = SGD(lr=0.01, decay=1e-6, momentum=0.9, nesterov=True)\n",
    "model4.compile(loss='categorical_crossentropy', optimizer=sgd, metrics=['accuracy'])\n",
    "\n",
    "model4.fit(x_train, y_train, batch_size=32, epochs=10, verbose=1, validation_data=(x_test, y_test))"
   ]
  },
  {
   "cell_type": "code",
   "execution_count": 76,
   "metadata": {
    "scrolled": false
   },
   "outputs": [
    {
     "name": "stdout",
     "output_type": "stream",
     "text": [
      "Train on 60000 samples, validate on 10000 samples\n",
      "Epoch 1/10\n",
      "60000/60000 [==============================] - 12s 203us/step - loss: 0.0222 - acc: 0.9926 - val_loss: 0.0156 - val_acc: 0.9950\n",
      "Epoch 2/10\n",
      "60000/60000 [==============================] - 11s 188us/step - loss: 0.0197 - acc: 0.9936 - val_loss: 0.0153 - val_acc: 0.9949\n",
      "Epoch 3/10\n",
      "60000/60000 [==============================] - 11s 188us/step - loss: 0.0174 - acc: 0.9946 - val_loss: 0.0154 - val_acc: 0.9951\n",
      "Epoch 4/10\n",
      "60000/60000 [==============================] - 11s 187us/step - loss: 0.0170 - acc: 0.9943 - val_loss: 0.0149 - val_acc: 0.9951\n",
      "Epoch 5/10\n",
      "60000/60000 [==============================] - 11s 188us/step - loss: 0.0161 - acc: 0.9948 - val_loss: 0.0143 - val_acc: 0.9952\n",
      "Epoch 6/10\n",
      "60000/60000 [==============================] - 11s 188us/step - loss: 0.0161 - acc: 0.9951 - val_loss: 0.0143 - val_acc: 0.9957\n",
      "Epoch 7/10\n",
      "60000/60000 [==============================] - 11s 188us/step - loss: 0.0155 - acc: 0.9953 - val_loss: 0.0143 - val_acc: 0.9954\n",
      "Epoch 8/10\n",
      "60000/60000 [==============================] - 11s 187us/step - loss: 0.0160 - acc: 0.9950 - val_loss: 0.0140 - val_acc: 0.9956\n",
      "Epoch 9/10\n",
      "60000/60000 [==============================] - 11s 187us/step - loss: 0.0151 - acc: 0.9952 - val_loss: 0.0136 - val_acc: 0.9954\n",
      "Epoch 10/10\n",
      "60000/60000 [==============================] - 11s 188us/step - loss: 0.0154 - acc: 0.9953 - val_loss: 0.0135 - val_acc: 0.9954\n"
     ]
    },
    {
     "data": {
      "text/plain": [
       "<keras.callbacks.History at 0x7fd4f55eceb8>"
      ]
     },
     "execution_count": 76,
     "metadata": {},
     "output_type": "execute_result"
    }
   ],
   "source": [
    "sgd = SGD(lr=0.001, decay=1e-6, momentum=0.9, nesterov=True)\n",
    "model4.compile(loss='categorical_crossentropy', optimizer=sgd, metrics=['accuracy'])\n",
    "\n",
    "model4.fit(x_train, y_train, batch_size=32, epochs=6, verbose=1, validation_data=(x_test, y_test))"
   ]
  },
  {
   "cell_type": "markdown",
   "metadata": {},
   "source": [
    "Check the performance on the test dataset:"
   ]
  },
  {
   "cell_type": "code",
   "execution_count": 77,
   "metadata": {
    "scrolled": true
   },
   "outputs": [
    {
     "name": "stdout",
     "output_type": "stream",
     "text": [
      "Test loss: 0.013529261548061458\n",
      "Test accuracy: 0.9954\n"
     ]
    }
   ],
   "source": [
    "score = model4.evaluate(x_test, y_test, verbose=0)\n",
    "print('Test loss:', score[0])\n",
    "print('Test accuracy:', score[1])"
   ]
  },
  {
   "cell_type": "code",
   "execution_count": 78,
   "metadata": {
    "scrolled": false
   },
   "outputs": [
    {
     "name": "stdout",
     "output_type": "stream",
     "text": [
      "Missclassified: 46 / 10000\n"
     ]
    },
    {
     "data": {
      "image/png": "[encoded data removed]",
      "text/plain": [
       "<Figure size 864x432 with 6 Axes>"
      ]
     },
     "metadata": {},
     "output_type": "display_data"
    }
   ],
   "source": [
    "display_first_6_missclassified(model4)"
   ]
  }
 ],
 "metadata": {
  "kernelspec": {
   "display_name": "Python 3",
   "language": "python",
   "name": "python3"
  },
  "language_info": {
   "codemirror_mode": {
    "name": "ipython",
    "version": 3
   },
   "file_extension": ".py",
   "mimetype": "text/x-python",
   "name": "python",
   "nbconvert_exporter": "python",
   "pygments_lexer": "ipython3",
   "version": "3.5.2"
  }
 },
 "nbformat": 4,
 "nbformat_minor": 2
}
