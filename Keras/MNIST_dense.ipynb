{
 "cells": [
  {
   "cell_type": "markdown",
   "metadata": {},
   "source": [
    "# Keras MNIST\n",
    "\n",
    "Based on the Mnist example from <https://github.com/keras-team/keras/blob/master/examples/mnist_mlp.py>."
   ]
  },
  {
   "cell_type": "code",
   "execution_count": 1,
   "metadata": {},
   "outputs": [
    {
     "name": "stderr",
     "output_type": "stream",
     "text": [
      "Using TensorFlow backend.\n"
     ]
    }
   ],
   "source": [
    "import keras\n",
    "from keras.datasets import mnist\n",
    "from keras.models import Sequential\n",
    "from keras.layers import Dense, Dropout\n",
    "from keras.optimizers import RMSprop"
   ]
  },
  {
   "cell_type": "code",
   "execution_count": 2,
   "metadata": {},
   "outputs": [],
   "source": [
    "import numpy as np\n",
    "from matplotlib import pyplot as plt\n",
    "\n",
    "%matplotlib inline"
   ]
  },
  {
   "cell_type": "markdown",
   "metadata": {},
   "source": [
    "Get the data:"
   ]
  },
  {
   "cell_type": "code",
   "execution_count": 3,
   "metadata": {},
   "outputs": [],
   "source": [
    "# the data, split between train and test sets\n",
    "(x_train, y_train), (x_test, y_test) = mnist.load_data()"
   ]
  },
  {
   "cell_type": "markdown",
   "metadata": {},
   "source": [
    "Check image dimensions, and a few example images:"
   ]
  },
  {
   "cell_type": "code",
   "execution_count": 4,
   "metadata": {},
   "outputs": [
    {
     "name": "stdout",
     "output_type": "stream",
     "text": [
      "(60000, 28, 28)\n",
      "(60000,)\n",
      "(10000, 28, 28)\n",
      "(10000,)\n"
     ]
    },
    {
     "data": {
      "image/png": "[encoded data removed]",
      "text/plain": [
       "<Figure size 864x432 with 6 Axes>"
      ]
     },
     "metadata": {},
     "output_type": "display_data"
    }
   ],
   "source": [
    "print(x_train.shape)\n",
    "print(y_train.shape)\n",
    "print(x_test.shape)\n",
    "print(y_test.shape)\n",
    "\n",
    "f = plt.figure(figsize=(12,6))\n",
    "for i in range(6):\n",
    "    sp = f.add_subplot(2, 3, i+1)\n",
    "    sp.axis('Off')\n",
    "    sp.set_title(y_train[i], fontsize=16)\n",
    "    plt.imshow(x_train[i])"
   ]
  },
  {
   "cell_type": "code",
   "execution_count": 5,
   "metadata": {},
   "outputs": [
    {
     "name": "stdout",
     "output_type": "stream",
     "text": [
      "60000 train samples\n",
      "10000 test samples\n"
     ]
    }
   ],
   "source": [
    "x_train = x_train.reshape(60000, 784)\n",
    "x_test = x_test.reshape(10000, 784)\n",
    "x_train = x_train.astype('float32')\n",
    "x_test = x_test.astype('float32')\n",
    "x_train /= 255\n",
    "x_test /= 255\n",
    "print(x_train.shape[0], 'train samples')\n",
    "print(x_test.shape[0], 'test samples')"
   ]
  },
  {
   "cell_type": "markdown",
   "metadata": {},
   "source": [
    "Convert class vectors to one-hot-encoded class matrices:"
   ]
  },
  {
   "cell_type": "code",
   "execution_count": 6,
   "metadata": {},
   "outputs": [],
   "source": [
    "num_classes = 10\n",
    "\n",
    "y_train = keras.utils.to_categorical(y_train, num_classes)\n",
    "y_test = keras.utils.to_categorical(y_test, num_classes)"
   ]
  },
  {
   "cell_type": "code",
   "execution_count": 7,
   "metadata": {},
   "outputs": [
    {
     "name": "stdout",
     "output_type": "stream",
     "text": [
      "<class 'numpy.ndarray'>\n",
      "(10000, 10)\n",
      "[[0. 0. 0. 0. 0. 0. 0. 1. 0. 0.]\n",
      " [0. 0. 1. 0. 0. 0. 0. 0. 0. 0.]\n",
      " [0. 1. 0. 0. 0. 0. 0. 0. 0. 0.]]\n"
     ]
    }
   ],
   "source": [
    "print(type(y_test))\n",
    "print(y_test.shape)\n",
    "print(y_test[:3,:])"
   ]
  },
  {
   "cell_type": "markdown",
   "metadata": {},
   "source": [
    "Build the model:"
   ]
  },
  {
   "cell_type": "code",
   "execution_count": 8,
   "metadata": {},
   "outputs": [],
   "source": [
    "model = Sequential()\n",
    "model.add(Dense(512, activation='relu', input_shape=(784,)))\n",
    "model.add(Dropout(0.2))\n",
    "model.add(Dense(512, activation='relu'))\n",
    "model.add(Dropout(0.2))\n",
    "model.add(Dense(num_classes, activation='softmax'))"
   ]
  },
  {
   "cell_type": "code",
   "execution_count": 9,
   "metadata": {},
   "outputs": [
    {
     "name": "stdout",
     "output_type": "stream",
     "text": [
      "_________________________________________________________________\n",
      "Layer (type)                 Output Shape              Param #   \n",
      "=================================================================\n",
      "dense_1 (Dense)              (None, 512)               401920    \n",
      "_________________________________________________________________\n",
      "dropout_1 (Dropout)          (None, 512)               0         \n",
      "_________________________________________________________________\n",
      "dense_2 (Dense)              (None, 512)               262656    \n",
      "_________________________________________________________________\n",
      "dropout_2 (Dropout)          (None, 512)               0         \n",
      "_________________________________________________________________\n",
      "dense_3 (Dense)              (None, 10)                5130      \n",
      "=================================================================\n",
      "Total params: 669,706\n",
      "Trainable params: 669,706\n",
      "Non-trainable params: 0\n",
      "_________________________________________________________________\n"
     ]
    }
   ],
   "source": [
    "model.summary()"
   ]
  },
  {
   "cell_type": "code",
   "execution_count": 10,
   "metadata": {},
   "outputs": [],
   "source": [
    "model.compile(loss='categorical_crossentropy',\n",
    "              optimizer=RMSprop(), metrics=['accuracy'])"
   ]
  },
  {
   "cell_type": "code",
   "execution_count": 11,
   "metadata": {},
   "outputs": [
    {
     "name": "stdout",
     "output_type": "stream",
     "text": [
      "Train on 60000 samples, validate on 10000 samples\n",
      "Epoch 1/20\n",
      "60000/60000 [==============================] - 3s 49us/step - loss: 0.2469 - acc: 0.9236 - val_loss: 0.1067 - val_acc: 0.9661\n",
      "Epoch 2/20\n",
      "60000/60000 [==============================] - 2s 28us/step - loss: 0.1043 - acc: 0.9678 - val_loss: 0.0816 - val_acc: 0.9769\n",
      "Epoch 3/20\n",
      "60000/60000 [==============================] - 2s 28us/step - loss: 0.0750 - acc: 0.9773 - val_loss: 0.0802 - val_acc: 0.9783\n",
      "Epoch 4/20\n",
      "60000/60000 [==============================] - 2s 28us/step - loss: 0.0607 - acc: 0.9818 - val_loss: 0.0758 - val_acc: 0.9781\n",
      "Epoch 5/20\n",
      "60000/60000 [==============================] - 2s 28us/step - loss: 0.0524 - acc: 0.9843 - val_loss: 0.0743 - val_acc: 0.9805\n",
      "Epoch 6/20\n",
      "60000/60000 [==============================] - 2s 28us/step - loss: 0.0432 - acc: 0.9873 - val_loss: 0.1103 - val_acc: 0.9739\n",
      "Epoch 7/20\n",
      "60000/60000 [==============================] - 2s 28us/step - loss: 0.0357 - acc: 0.9889 - val_loss: 0.0797 - val_acc: 0.9806\n",
      "Epoch 8/20\n",
      "60000/60000 [==============================] - 2s 28us/step - loss: 0.0329 - acc: 0.9904 - val_loss: 0.0884 - val_acc: 0.9814\n",
      "Epoch 9/20\n",
      "60000/60000 [==============================] - 2s 29us/step - loss: 0.0327 - acc: 0.9907 - val_loss: 0.0888 - val_acc: 0.9819\n",
      "Epoch 10/20\n",
      "60000/60000 [==============================] - 2s 28us/step - loss: 0.0284 - acc: 0.9917 - val_loss: 0.0970 - val_acc: 0.9809\n",
      "Epoch 11/20\n",
      "60000/60000 [==============================] - 2s 28us/step - loss: 0.0273 - acc: 0.9926 - val_loss: 0.0870 - val_acc: 0.9817\n",
      "Epoch 12/20\n",
      "60000/60000 [==============================] - 2s 29us/step - loss: 0.0238 - acc: 0.9930 - val_loss: 0.0961 - val_acc: 0.9824\n",
      "Epoch 13/20\n",
      "60000/60000 [==============================] - 2s 29us/step - loss: 0.0225 - acc: 0.9937 - val_loss: 0.0958 - val_acc: 0.9826\n",
      "Epoch 14/20\n",
      "60000/60000 [==============================] - 2s 28us/step - loss: 0.0230 - acc: 0.9935 - val_loss: 0.0892 - val_acc: 0.9841\n",
      "Epoch 15/20\n",
      "60000/60000 [==============================] - 2s 28us/step - loss: 0.0196 - acc: 0.9942 - val_loss: 0.1103 - val_acc: 0.9818\n",
      "Epoch 16/20\n",
      "60000/60000 [==============================] - 2s 29us/step - loss: 0.0214 - acc: 0.9944 - val_loss: 0.1129 - val_acc: 0.9823\n",
      "Epoch 17/20\n",
      "60000/60000 [==============================] - 2s 28us/step - loss: 0.0206 - acc: 0.9944 - val_loss: 0.0934 - val_acc: 0.9834\n",
      "Epoch 18/20\n",
      "60000/60000 [==============================] - 2s 29us/step - loss: 0.0175 - acc: 0.9952 - val_loss: 0.1055 - val_acc: 0.9831\n",
      "Epoch 19/20\n",
      "60000/60000 [==============================] - 2s 29us/step - loss: 0.0163 - acc: 0.9954 - val_loss: 0.1001 - val_acc: 0.9838\n",
      "Epoch 20/20\n",
      "60000/60000 [==============================] - 2s 28us/step - loss: 0.0172 - acc: 0.9953 - val_loss: 0.1042 - val_acc: 0.9837\n"
     ]
    }
   ],
   "source": [
    "batch_size = 128\n",
    "epochs = 20\n",
    "\n",
    "history = model.fit(x_train, y_train,\n",
    "                    batch_size=batch_size,\n",
    "                    epochs=epochs,\n",
    "                    verbose=1, validation_data=(x_test, y_test))"
   ]
  },
  {
   "cell_type": "code",
   "execution_count": 12,
   "metadata": {},
   "outputs": [
    {
     "name": "stdout",
     "output_type": "stream",
     "text": [
      "Test loss: 0.10423951952059726\n",
      "Test accuracy: 0.9837\n"
     ]
    }
   ],
   "source": [
    "score = model.evaluate(x_test, y_test, verbose=0)\n",
    "print('Test loss:', score[0])\n",
    "print('Test accuracy:', score[1])"
   ]
  },
  {
   "cell_type": "markdown",
   "metadata": {},
   "source": [
    "Look at some of the predictions on the test data:"
   ]
  },
  {
   "cell_type": "code",
   "execution_count": 13,
   "metadata": {},
   "outputs": [
    {
     "data": {
      "image/png": "[encoded data removed]",
      "text/plain": [
       "<Figure size 864x432 with 6 Axes>"
      ]
     },
     "metadata": {},
     "output_type": "display_data"
    }
   ],
   "source": [
    "first_6_pred = model.predict(x_test[:6, :])\n",
    "\n",
    "f = plt.figure(figsize=(12,6))\n",
    "for i in range(6):\n",
    "    sp = f.add_subplot(2, 3, i+1)\n",
    "    sp.axis('Off')\n",
    "    pred_class = np.argmax(first_6_pred[i, :])\n",
    "    max_prob = np.max(first_6_pred[i, :])\n",
    "    sp.set_title(\"{}: {}\".format(pred_class, max_prob), fontsize=16)\n",
    "    plt.imshow(x_test[i].reshape(28, 28))"
   ]
  },
  {
   "cell_type": "markdown",
   "metadata": {},
   "source": [
    "Look at some incorrect predictions:"
   ]
  },
  {
   "cell_type": "code",
   "execution_count": 14,
   "metadata": {},
   "outputs": [
    {
     "name": "stdout",
     "output_type": "stream",
     "text": [
      "[149, 151, 321, 326, 340, 359, 445, 456, 495, 582, 619, 646, 659, 720, 882, 900, 947, 951, 956, 1014, 1039, 1107, 1112, 1156, 1178, 1181, 1182, 1226, 1242, 1247, 1260, 1319, 1328, 1393, 1522, 1530, 1549, 1621, 1681, 1721, 1813, 1878, 1901, 2004, 2024, 2035, 2053, 2070, 2093, 2109, 2135, 2224, 2293, 2369, 2387, 2414, 2462, 2488, 2597, 2607, 2648, 2654, 2720, 2743, 2810, 2863, 2877, 2921, 2927, 2939, 2953, 3073, 3117, 3225, 3289, 3422, 3441, 3460, 3475, 3503, 3520, 3558, 3597, 3681, 3762, 3776, 3780, 3808, 3818, 3853, 3869, 3893, 3906, 3968, 3985, 4027, 4065, 4102, 4140, 4176, 4199, 4248, 4360, 4425, 4497, 4505, 4536, 4551, 4571, 4578, 4668, 4731, 4759, 4761, 4807, 4823, 4880, 5331, 5600, 5634, 5642, 5649, 5654, 5734, 5937, 5955, 5972, 5973, 5997, 6011, 6023, 6059, 6166, 6571, 6574, 6576, 6577, 6597, 6625, 6651, 6755, 6847, 7216, 7915, 7921, 8059, 8094, 8198, 8311, 8325, 8527, 9009, 9015, 9024, 9587, 9634, 9664, 9679, 9729, 9768, 9770, 9808, 9940]\n",
      "163\n"
     ]
    }
   ],
   "source": [
    "test_pred = model.predict(x_test)\n",
    "n_test = x_test.shape[0]\n",
    "misclassified = []\n",
    "\n",
    "for i in range(n_test):\n",
    "    if np.argmax(test_pred[i, :]) != np.argmax(y_test[i, :]):\n",
    "        misclassified.append(i)\n",
    "        \n",
    "print(misclassified)\n",
    "print(len(misclassified))"
   ]
  },
  {
   "cell_type": "code",
   "execution_count": 15,
   "metadata": {},
   "outputs": [
    {
     "data": {
      "image/png": "[encoded data removed]",
      "text/plain": [
       "<Figure size 864x432 with 6 Axes>"
      ]
     },
     "metadata": {},
     "output_type": "display_data"
    }
   ],
   "source": [
    "first_6_misclassified = misclassified[:6]\n",
    "\n",
    "f = plt.figure(figsize=(12,6))\n",
    "for i in range(6):\n",
    "    sp = f.add_subplot(2, 3, i+1)\n",
    "    img_id = first_6_misclassified[i]\n",
    "    sp.axis('Off')\n",
    "    pred_class = np.argmax(test_pred[img_id, :])\n",
    "    max_prob = np.max(test_pred[img_id, :])\n",
    "    ground_truth = np.argmax(y_test[img_id, :])\n",
    "    sp.set_title(\"truth: {}, pred: {}, prob: {:.4f}\".format(ground_truth, pred_class, max_prob), fontsize=12)\n",
    "    plt.imshow(x_test[img_id].reshape(28, 28))"
   ]
  }
 ],
 "metadata": {
  "kernelspec": {
   "display_name": "Python 3",
   "language": "python",
   "name": "python3"
  },
  "language_info": {
   "codemirror_mode": {
    "name": "ipython",
    "version": 3
   },
   "file_extension": ".py",
   "mimetype": "text/x-python",
   "name": "python",
   "nbconvert_exporter": "python",
   "pygments_lexer": "ipython3",
   "version": "3.5.2"
  }
 },
 "nbformat": 4,
 "nbformat_minor": 2
}
