{
 "cells": [
  {
   "cell_type": "markdown",
   "metadata": {},
   "source": [
    "# AlexNet of Fashion-MNIST"
   ]
  },
  {
   "cell_type": "code",
   "execution_count": 1,
   "metadata": {},
   "outputs": [],
   "source": [
    "import cv2\n",
    "import torch\n",
    "import time\n",
    "import torch.nn as nn\n",
    "import torch.nn.functional as F\n",
    "import torchvision\n",
    "import torchvision.transforms as transforms\n",
    "from torch import optim\n",
    "from torch.autograd import Variable\n",
    "from torch.utils.data import DataLoader\n",
    "from torchvision.transforms import ToPILImage\n",
    "show=ToPILImage()\n",
    "\n",
    "import numpy as np\n",
    "import matplotlib.pyplot as plt\n",
    "%matplotlib inline"
   ]
  },
  {
   "cell_type": "code",
   "execution_count": 2,
   "metadata": {
    "scrolled": false
   },
   "outputs": [
    {
     "name": "stdout",
     "output_type": "stream",
     "text": [
      "cuda:0\n"
     ]
    }
   ],
   "source": [
    "device = torch.device('cuda:0' if torch.cuda.is_available() else 'cpu')\n",
    "print(device)"
   ]
  },
  {
   "cell_type": "code",
   "execution_count": 3,
   "metadata": {},
   "outputs": [
    {
     "name": "stdout",
     "output_type": "stream",
     "text": [
      "GeForce RTX 2080 Ti\n"
     ]
    }
   ],
   "source": [
    "for i in range(torch.cuda.device_count()):\n",
    "    print(torch.cuda.get_device_name(i))"
   ]
  },
  {
   "cell_type": "code",
   "execution_count": 4,
   "metadata": {},
   "outputs": [],
   "source": [
    "batch_size = 512\n",
    "resize = 32\n",
    "mean = (0.1307,)\n",
    "std = (0.3081,)"
   ]
  },
  {
   "cell_type": "code",
   "execution_count": 5,
   "metadata": {},
   "outputs": [],
   "source": [
    "def imshow(img):\n",
    "    img_clone = img.clone().cpu()\n",
    "    img_clone = img_clone / 2 + 0.5\n",
    "    npimg = img_clone.numpy()\n",
    "    plt.imshow(np.transpose(npimg, (1, 2, 0)))"
   ]
  },
  {
   "cell_type": "markdown",
   "metadata": {},
   "source": [
    "## Load data"
   ]
  },
  {
   "cell_type": "code",
   "execution_count": 6,
   "metadata": {},
   "outputs": [],
   "source": [
    "transform = transforms.Compose([transforms.Resize((resize, resize)),\n",
    "                                transforms.ToTensor(),\n",
    "                                transforms.Normalize(mean, std)])\n",
    "\n",
    "trainset = torchvision.datasets.FashionMNIST(root='./data', train=True,\n",
    "                                             download=True, transform=transform)\n",
    "trainloader = torch.utils.data.DataLoader(trainset, batch_size=batch_size,\n",
    "                                          shuffle=True, num_workers=0)\n",
    "\n",
    "testset = torchvision.datasets.FashionMNIST(root='./data', train=False,\n",
    "                                            download=True, transform=transform)\n",
    "testloader = torch.utils.data.DataLoader(testset, batch_size=batch_size,\n",
    "                                         shuffle=False, num_workers=0)"
   ]
  },
  {
   "cell_type": "code",
   "execution_count": 7,
   "metadata": {},
   "outputs": [],
   "source": [
    "classes = {0: \"T-shirt/top\",\n",
    "           1: \"Trouser\",\n",
    "           2: \"Pullover\",\n",
    "           3: \"Dress\",\n",
    "           4: \"Coat\",\n",
    "           5: \"Sandal\",\n",
    "           6: \"Shirt\",\n",
    "           7: \"Sneaker\",\n",
    "           8: \"Bag\",\n",
    "           9: \"Ankle boot\"}"
   ]
  },
  {
   "cell_type": "markdown",
   "metadata": {},
   "source": [
    "## Network"
   ]
  },
  {
   "cell_type": "code",
   "execution_count": 8,
   "metadata": {},
   "outputs": [],
   "source": [
    "class AlexNet(nn.Module):\n",
    "\n",
    "    def __init__(self, num_classes=10, input_channels=1):\n",
    "        super().__init__()\n",
    "        \n",
    "        self.features = nn.Sequential(\n",
    "            nn.Conv2d(input_channels, 64, kernel_size=11, stride=4, padding=5),\n",
    "            nn.ReLU(inplace=True),\n",
    "            nn.MaxPool2d(kernel_size=2, stride=2),\n",
    "            nn.Conv2d(64, 192, kernel_size=5, padding=2),\n",
    "            nn.ReLU(inplace=True),\n",
    "            nn.MaxPool2d(kernel_size=2, stride=2),\n",
    "            nn.Conv2d(192, 384, kernel_size=3, padding=1),\n",
    "            nn.ReLU(inplace=True),\n",
    "            nn.Conv2d(384, 256, kernel_size=3, padding=1),\n",
    "            nn.ReLU(inplace=True),\n",
    "            nn.Conv2d(256, 256, kernel_size=3, padding=1),\n",
    "            nn.ReLU(inplace=True),\n",
    "            nn.MaxPool2d(kernel_size=2, stride=2),\n",
    "        )\n",
    "        self.classifier = nn.Linear(256, num_classes)\n",
    "\n",
    "    def forward(self, x):\n",
    "        x = self.features(x)\n",
    "        x = x.view(x.size(0), -1)\n",
    "        x = self.classifier(x)\n",
    "        return x"
   ]
  },
  {
   "cell_type": "code",
   "execution_count": 9,
   "metadata": {
    "scrolled": true
   },
   "outputs": [
    {
     "name": "stdout",
     "output_type": "stream",
     "text": [
      "AlexNet(\n",
      "  (features): Sequential(\n",
      "    (0): Conv2d(1, 64, kernel_size=(11, 11), stride=(4, 4), padding=(5, 5))\n",
      "    (1): ReLU(inplace)\n",
      "    (2): MaxPool2d(kernel_size=2, stride=2, padding=0, dilation=1, ceil_mode=False)\n",
      "    (3): Conv2d(64, 192, kernel_size=(5, 5), stride=(1, 1), padding=(2, 2))\n",
      "    (4): ReLU(inplace)\n",
      "    (5): MaxPool2d(kernel_size=2, stride=2, padding=0, dilation=1, ceil_mode=False)\n",
      "    (6): Conv2d(192, 384, kernel_size=(3, 3), stride=(1, 1), padding=(1, 1))\n",
      "    (7): ReLU(inplace)\n",
      "    (8): Conv2d(384, 256, kernel_size=(3, 3), stride=(1, 1), padding=(1, 1))\n",
      "    (9): ReLU(inplace)\n",
      "    (10): Conv2d(256, 256, kernel_size=(3, 3), stride=(1, 1), padding=(1, 1))\n",
      "    (11): ReLU(inplace)\n",
      "    (12): MaxPool2d(kernel_size=2, stride=2, padding=0, dilation=1, ceil_mode=False)\n",
      "  )\n",
      "  (classifier): Linear(in_features=256, out_features=10, bias=True)\n",
      ")\n"
     ]
    }
   ],
   "source": [
    "net = AlexNet().cuda()\n",
    "print(net)"
   ]
  },
  {
   "cell_type": "markdown",
   "metadata": {},
   "source": [
    "## Training"
   ]
  },
  {
   "cell_type": "code",
   "execution_count": 10,
   "metadata": {},
   "outputs": [],
   "source": [
    "criterion=nn.CrossEntropyLoss()\n",
    "optimizer=optim.Adam(net.parameters(),lr=0.001, weight_decay=5e-4)"
   ]
  },
  {
   "cell_type": "code",
   "execution_count": 11,
   "metadata": {},
   "outputs": [],
   "source": [
    "debug_mode = False"
   ]
  },
  {
   "cell_type": "code",
   "execution_count": 12,
   "metadata": {},
   "outputs": [
    {
     "name": "stdout",
     "output_type": "stream",
     "text": [
      "Epoch: 0 | loss: 92.9589996 | time: 5.999 s\n",
      "Epoch: 1 | loss: 47.4661636 | time: 5.957 s\n",
      "Epoch: 2 | loss: 40.0920067 | time: 5.978 s\n",
      "Epoch: 3 | loss: 36.3879890 | time: 5.955 s\n",
      "Epoch: 4 | loss: 33.0154381 | time: 5.967 s\n",
      "Epoch: 5 | loss: 31.0527153 | time: 6.009 s\n",
      "Epoch: 6 | loss: 29.1672039 | time: 5.982 s\n",
      "Epoch: 7 | loss: 28.9566517 | time: 5.888 s\n",
      "Epoch: 8 | loss: 26.1431255 | time: 6.032 s\n",
      "Epoch: 9 | loss: 25.2694702 | time: 5.986 s\n",
      "Epoch: 10 | loss: 23.3023987 | time: 5.964 s\n",
      "Epoch: 11 | loss: 22.4270554 | time: 5.930 s\n",
      "Epoch: 12 | loss: 21.9857197 | time: 5.900 s\n",
      "Epoch: 13 | loss: 20.6792336 | time: 5.941 s\n",
      "Epoch: 14 | loss: 19.7683334 | time: 5.962 s\n",
      "Epoch: 15 | loss: 19.4387627 | time: 6.044 s\n",
      "Epoch: 16 | loss: 18.3228951 | time: 6.153 s\n",
      "Epoch: 17 | loss: 17.0260353 | time: 6.207 s\n",
      "Epoch: 18 | loss: 16.7188644 | time: 6.064 s\n",
      "Epoch: 19 | loss: 16.3051643 | time: 6.006 s\n",
      "Epoch: 20 | loss: 14.6625071 | time: 5.987 s\n",
      "Epoch: 21 | loss: 14.0410147 | time: 6.012 s\n",
      "Epoch: 22 | loss: 13.8737707 | time: 5.988 s\n",
      "Epoch: 23 | loss: 13.1488781 | time: 5.985 s\n",
      "Epoch: 24 | loss: 12.5903444 | time: 5.993 s\n",
      "Epoch: 25 | loss: 11.8150959 | time: 5.980 s\n",
      "Epoch: 26 | loss: 11.3463497 | time: 6.001 s\n",
      "Epoch: 27 | loss: 11.9057007 | time: 5.985 s\n",
      "Epoch: 28 | loss: 11.5635910 | time: 5.962 s\n",
      "Epoch: 29 | loss: 10.1299906 | time: 5.975 s\n",
      "Epoch: 30 | loss: 10.0820961 | time: 5.976 s\n",
      "Epoch: 31 | loss: 9.9015627 | time: 5.996 s\n",
      "Epoch: 32 | loss: 9.3257732 | time: 6.005 s\n",
      "Epoch: 33 | loss: 8.8933296 | time: 6.145 s\n",
      "Epoch: 34 | loss: 9.0978985 | time: 6.226 s\n",
      "Epoch: 35 | loss: 8.0547810 | time: 6.177 s\n",
      "Epoch: 36 | loss: 8.3264227 | time: 6.172 s\n",
      "Epoch: 37 | loss: 8.2882528 | time: 6.167 s\n",
      "Epoch: 38 | loss: 8.2162056 | time: 6.168 s\n",
      "Epoch: 39 | loss: 7.3384871 | time: 6.181 s\n",
      "Epoch: 40 | loss: 7.3139205 | time: 6.162 s\n",
      "Epoch: 41 | loss: 8.1610851 | time: 6.158 s\n",
      "Epoch: 42 | loss: 6.9316058 | time: 6.135 s\n",
      "Epoch: 43 | loss: 7.2498760 | time: 6.177 s\n",
      "Epoch: 44 | loss: 7.2677431 | time: 6.108 s\n",
      "Epoch: 45 | loss: 6.1642675 | time: 6.041 s\n",
      "Epoch: 46 | loss: 6.5674553 | time: 5.973 s\n",
      "Epoch: 47 | loss: 6.3428454 | time: 5.970 s\n",
      "Epoch: 48 | loss: 5.8938560 | time: 5.968 s\n",
      "Epoch: 49 | loss: 6.7186646 | time: 6.103 s\n",
      "Epoch: 50 | loss: 5.2213516 | time: 6.096 s\n",
      "Epoch: 51 | loss: 5.6792750 | time: 6.059 s\n",
      "Epoch: 52 | loss: 6.0898237 | time: 6.081 s\n",
      "Epoch: 53 | loss: 5.6672144 | time: 6.106 s\n",
      "Epoch: 54 | loss: 4.9884529 | time: 6.161 s\n",
      "Epoch: 55 | loss: 6.1527224 | time: 6.164 s\n",
      "Epoch: 56 | loss: 5.2756224 | time: 6.136 s\n",
      "Epoch: 57 | loss: 5.4154387 | time: 6.240 s\n",
      "Epoch: 58 | loss: 5.3284373 | time: 6.147 s\n",
      "Epoch: 59 | loss: 5.0542626 | time: 6.177 s\n",
      "Epoch: 60 | loss: 5.1634626 | time: 6.120 s\n",
      "Epoch: 61 | loss: 5.2333717 | time: 6.066 s\n",
      "Epoch: 62 | loss: 4.9496603 | time: 6.067 s\n",
      "Epoch: 63 | loss: 5.0580282 | time: 6.069 s\n",
      "Epoch: 64 | loss: 4.7427969 | time: 6.074 s\n",
      "Epoch: 65 | loss: 5.2944088 | time: 6.053 s\n",
      "Epoch: 66 | loss: 5.1585059 | time: 6.077 s\n",
      "Epoch: 67 | loss: 5.3995423 | time: 6.073 s\n",
      "Epoch: 68 | loss: 4.3854256 | time: 6.067 s\n",
      "Epoch: 69 | loss: 5.1801963 | time: 6.082 s\n",
      "Epoch: 70 | loss: 4.9420900 | time: 5.991 s\n",
      "Epoch: 71 | loss: 3.6017163 | time: 5.987 s\n",
      "Epoch: 72 | loss: 4.5303631 | time: 5.959 s\n",
      "Epoch: 73 | loss: 4.0194960 | time: 5.982 s\n",
      "Epoch: 74 | loss: 4.1586218 | time: 5.978 s\n",
      "Epoch: 75 | loss: 5.3993258 | time: 5.994 s\n",
      "Epoch: 76 | loss: 4.7389235 | time: 5.986 s\n",
      "Epoch: 77 | loss: 4.7942095 | time: 6.012 s\n",
      "Epoch: 78 | loss: 3.9151409 | time: 5.984 s\n",
      "Epoch: 79 | loss: 4.2653961 | time: 5.959 s\n",
      "Epoch: 80 | loss: 3.3731387 | time: 5.990 s\n",
      "Epoch: 81 | loss: 4.2224517 | time: 5.971 s\n",
      "Epoch: 82 | loss: 4.4618244 | time: 5.964 s\n",
      "Epoch: 83 | loss: 3.7902603 | time: 5.981 s\n",
      "Epoch: 84 | loss: 3.5786846 | time: 5.971 s\n",
      "Epoch: 85 | loss: 4.9622006 | time: 5.977 s\n",
      "Epoch: 86 | loss: 3.5848601 | time: 5.999 s\n",
      "Epoch: 87 | loss: 4.2012095 | time: 6.163 s\n",
      "Epoch: 88 | loss: 3.9203694 | time: 6.147 s\n",
      "Epoch: 89 | loss: 4.0068636 | time: 6.170 s\n",
      "Epoch: 90 | loss: 4.0351362 | time: 6.107 s\n",
      "Epoch: 91 | loss: 4.1724296 | time: 6.041 s\n",
      "Epoch: 92 | loss: 3.0066161 | time: 6.032 s\n",
      "Epoch: 93 | loss: 3.7013755 | time: 6.009 s\n",
      "Epoch: 94 | loss: 4.7347331 | time: 6.043 s\n",
      "Epoch: 95 | loss: 3.9659579 | time: 5.993 s\n",
      "Epoch: 96 | loss: 3.9036543 | time: 5.958 s\n",
      "Epoch: 97 | loss: 3.3545313 | time: 5.998 s\n",
      "Epoch: 98 | loss: 3.6544905 | time: 5.983 s\n",
      "Epoch: 99 | loss: 4.4392314 | time: 5.985 s\n"
     ]
    }
   ],
   "source": [
    "num_epochs = 100\n",
    "\n",
    "for epoch in range(num_epochs):\n",
    "    start = time.time()\n",
    "    running_loss = 0\n",
    "    for i, data in enumerate(trainloader):\n",
    "        images, labels = data\n",
    "\n",
    "        images = images.cuda()\n",
    "        labels = labels.cuda()\n",
    "\n",
    "        if debug_mode:\n",
    "            imshow(torchvision.utils.make_grid(images))\n",
    "            plt.show()\n",
    "            print([classes[lab] for lab in labels.clone().cpu().numpy()])\n",
    "        \n",
    "        optimizer.zero_grad()\n",
    "\n",
    "        outputs = net(images)\n",
    "        \n",
    "        if debug_mode:\n",
    "            print(images.shape)\n",
    "            print(outputs)\n",
    "            \n",
    "        loss = criterion(outputs, labels)\n",
    "\n",
    "        loss.backward()\n",
    "        optimizer.step()\n",
    "\n",
    "        running_loss += loss\n",
    "        \n",
    "    end = time.time()\n",
    "    print(f'Epoch: {epoch} | loss: {running_loss:0.7f} | time: {end - start:0.3f} s')"
   ]
  },
  {
   "cell_type": "markdown",
   "metadata": {},
   "source": [
    "## Test"
   ]
  },
  {
   "cell_type": "code",
   "execution_count": 13,
   "metadata": {},
   "outputs": [],
   "source": [
    "net.eval()\n",
    "\n",
    "correct=0\n",
    "total=0\n",
    "for data in testloader:\n",
    "    images,labels = data\n",
    "    images = images.cuda()\n",
    "    labels = labels.cuda()\n",
    "    outputs = net(images)\n",
    "    _, predicted = torch.max(outputs, dim=1)\n",
    "    total += labels.size(0)\n",
    "    correct += (predicted == labels).sum()"
   ]
  },
  {
   "cell_type": "code",
   "execution_count": 14,
   "metadata": {},
   "outputs": [
    {
     "name": "stdout",
     "output_type": "stream",
     "text": [
      "Accuracy of the network on the 10000 test images: 89.1000%\n"
     ]
    }
   ],
   "source": [
    "print(f'Accuracy of the network on the {total} test images: {correct.to(dtype=torch.float) / float(total):.4%}')"
   ]
  }
 ],
 "metadata": {
  "kernelspec": {
   "display_name": "Python 3",
   "language": "python",
   "name": "python3"
  },
  "language_info": {
   "codemirror_mode": {
    "name": "ipython",
    "version": 3
   },
   "file_extension": ".py",
   "mimetype": "text/x-python",
   "name": "python",
   "nbconvert_exporter": "python",
   "pygments_lexer": "ipython3",
   "version": "3.6.5"
  }
 },
 "nbformat": 4,
 "nbformat_minor": 2
}
