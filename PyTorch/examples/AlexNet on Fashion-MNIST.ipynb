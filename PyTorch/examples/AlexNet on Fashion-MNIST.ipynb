{
 "cells": [
  {
   "cell_type": "markdown",
   "metadata": {},
   "source": [
    "# AlexNet of Fashion-MNIST"
   ]
  },
  {
   "cell_type": "code",
   "execution_count": 1,
   "metadata": {},
   "outputs": [],
   "source": [
    "import cv2\n",
    "import torch\n",
    "import time\n",
    "import torch.nn as nn\n",
    "import torch.nn.functional as F\n",
    "import torchvision\n",
    "import torchvision.transforms as transforms\n",
    "from torch import optim\n",
    "from torch.autograd import Variable\n",
    "from torch.utils.data import DataLoader\n",
    "from torchvision.transforms import ToPILImage\n",
    "show=ToPILImage()\n",
    "\n",
    "import numpy as np\n",
    "import matplotlib.pyplot as plt\n",
    "%matplotlib inline"
   ]
  },
  {
   "cell_type": "code",
   "execution_count": 2,
   "metadata": {},
   "outputs": [
    {
     "name": "stdout",
     "output_type": "stream",
     "text": [
      "cuda:0\n"
     ]
    }
   ],
   "source": [
    "device = torch.device('cuda:0' if torch.cuda.is_available() else 'cpu')\n",
    "print(device)"
   ]
  },
  {
   "cell_type": "code",
   "execution_count": 3,
   "metadata": {},
   "outputs": [],
   "source": [
    "batch_size = 32 #512\n",
    "resize = 32\n",
    "mean = (0.1307,)\n",
    "std = (0.3081,)"
   ]
  },
  {
   "cell_type": "code",
   "execution_count": 4,
   "metadata": {},
   "outputs": [],
   "source": [
    "def imshow(img):\n",
    "    img_clone = img.clone().cpu()\n",
    "    img_clone = img_clone / 2 + 0.5\n",
    "    npimg = img_clone.numpy()\n",
    "    plt.imshow(np.transpose(npimg, (1, 2, 0)))"
   ]
  },
  {
   "cell_type": "markdown",
   "metadata": {},
   "source": [
    "## Load data"
   ]
  },
  {
   "cell_type": "code",
   "execution_count": 5,
   "metadata": {},
   "outputs": [],
   "source": [
    "transform = transforms.Compose([transforms.Resize((resize, resize)),\n",
    "                                transforms.ToTensor(),\n",
    "                                transforms.Normalize(mean, std)])\n",
    "\n",
    "trainset = torchvision.datasets.FashionMNIST(root='./data', train=True,\n",
    "                                             download=True, transform=transform)\n",
    "trainloader = torch.utils.data.DataLoader(trainset, batch_size=batch_size,\n",
    "                                          shuffle=True, num_workers=0)\n",
    "\n",
    "testset = torchvision.datasets.FashionMNIST(root='./data', train=False,\n",
    "                                            download=True, transform=transform)\n",
    "testloader = torch.utils.data.DataLoader(testset, batch_size=batch_size,\n",
    "                                         shuffle=False, num_workers=0)"
   ]
  },
  {
   "cell_type": "code",
   "execution_count": 6,
   "metadata": {},
   "outputs": [],
   "source": [
    "classes = {0: \"T-shirt/top\",\n",
    "           1: \"Trouser\",\n",
    "           2: \"Pullover\",\n",
    "           3: \"Dress\",\n",
    "           4: \"Coat\",\n",
    "           5: \"Sandal\",\n",
    "           6: \"Shirt\",\n",
    "           7: \"Sneaker\",\n",
    "           8: \"Bag\",\n",
    "           9: \"Ankle boot\"}"
   ]
  },
  {
   "cell_type": "markdown",
   "metadata": {},
   "source": [
    "## Network"
   ]
  },
  {
   "cell_type": "code",
   "execution_count": 7,
   "metadata": {},
   "outputs": [],
   "source": [
    "class AlexNet(nn.Module):\n",
    "\n",
    "    def __init__(self, num_classes=10, input_channels=1):\n",
    "        super().__init__()\n",
    "        \n",
    "        self.features = nn.Sequential(\n",
    "            nn.Conv2d(input_channels, 64, kernel_size=11, stride=4, padding=5),\n",
    "            nn.ReLU(inplace=True),\n",
    "            nn.MaxPool2d(kernel_size=2, stride=2),\n",
    "            nn.Conv2d(64, 192, kernel_size=5, padding=2),\n",
    "            nn.ReLU(inplace=True),\n",
    "            nn.MaxPool2d(kernel_size=2, stride=2),\n",
    "            nn.Conv2d(192, 384, kernel_size=3, padding=1),\n",
    "            nn.ReLU(inplace=True),\n",
    "            nn.Conv2d(384, 256, kernel_size=3, padding=1),\n",
    "            nn.ReLU(inplace=True),\n",
    "            nn.Conv2d(256, 256, kernel_size=3, padding=1),\n",
    "            nn.ReLU(inplace=True),\n",
    "            nn.MaxPool2d(kernel_size=2, stride=2),\n",
    "        )\n",
    "        self.classifier = nn.Linear(256, num_classes)\n",
    "\n",
    "    def forward(self, x):\n",
    "        x = self.features(x)\n",
    "        x = x.view(x.size(0), -1)\n",
    "        x = self.classifier(x)\n",
    "        return x"
   ]
  },
  {
   "cell_type": "code",
   "execution_count": 8,
   "metadata": {
    "scrolled": true
   },
   "outputs": [
    {
     "name": "stdout",
     "output_type": "stream",
     "text": [
      "AlexNet(\n",
      "  (features): Sequential(\n",
      "    (0): Conv2d(1, 64, kernel_size=(11, 11), stride=(4, 4), padding=(5, 5))\n",
      "    (1): ReLU(inplace)\n",
      "    (2): MaxPool2d(kernel_size=2, stride=2, padding=0, dilation=1, ceil_mode=False)\n",
      "    (3): Conv2d(64, 192, kernel_size=(5, 5), stride=(1, 1), padding=(2, 2))\n",
      "    (4): ReLU(inplace)\n",
      "    (5): MaxPool2d(kernel_size=2, stride=2, padding=0, dilation=1, ceil_mode=False)\n",
      "    (6): Conv2d(192, 384, kernel_size=(3, 3), stride=(1, 1), padding=(1, 1))\n",
      "    (7): ReLU(inplace)\n",
      "    (8): Conv2d(384, 256, kernel_size=(3, 3), stride=(1, 1), padding=(1, 1))\n",
      "    (9): ReLU(inplace)\n",
      "    (10): Conv2d(256, 256, kernel_size=(3, 3), stride=(1, 1), padding=(1, 1))\n",
      "    (11): ReLU(inplace)\n",
      "    (12): MaxPool2d(kernel_size=2, stride=2, padding=0, dilation=1, ceil_mode=False)\n",
      "  )\n",
      "  (classifier): Linear(in_features=256, out_features=10, bias=True)\n",
      ")\n"
     ]
    }
   ],
   "source": [
    "net = AlexNet().cuda()\n",
    "print(net)"
   ]
  },
  {
   "cell_type": "markdown",
   "metadata": {},
   "source": [
    "## Training"
   ]
  },
  {
   "cell_type": "code",
   "execution_count": 9,
   "metadata": {},
   "outputs": [],
   "source": [
    "criterion=nn.CrossEntropyLoss()\n",
    "optimizer=optim.Adam(net.parameters(),lr=0.001, weight_decay=5e-4)"
   ]
  },
  {
   "cell_type": "code",
   "execution_count": 10,
   "metadata": {},
   "outputs": [],
   "source": [
    "debug_mode = False"
   ]
  },
  {
   "cell_type": "code",
   "execution_count": 11,
   "metadata": {},
   "outputs": [
    {
     "name": "stdout",
     "output_type": "stream",
     "text": [
      "Epoch: 0 | loss: 968.8362427 | time: 33.047 s\n",
      "Epoch: 1 | loss: 659.1310425 | time: 32.931 s\n",
      "Epoch: 2 | loss: 601.9701538 | time: 32.928 s\n",
      "Epoch: 3 | loss: 554.3683472 | time: 32.633 s\n",
      "Epoch: 4 | loss: 523.6759644 | time: 32.576 s\n",
      "Epoch: 5 | loss: 502.2305298 | time: 32.664 s\n",
      "Epoch: 6 | loss: 480.7502747 | time: 33.064 s\n",
      "Epoch: 7 | loss: 470.4764099 | time: 32.930 s\n",
      "Epoch: 8 | loss: 455.5673523 | time: 32.617 s\n",
      "Epoch: 9 | loss: 443.0631409 | time: 32.647 s\n",
      "Epoch: 10 | loss: 432.5975037 | time: 32.743 s\n",
      "Epoch: 11 | loss: 430.3498535 | time: 32.614 s\n",
      "Epoch: 12 | loss: 417.2690125 | time: 32.736 s\n",
      "Epoch: 13 | loss: 412.2712708 | time: 33.728 s\n",
      "Epoch: 14 | loss: 401.8746643 | time: 33.549 s\n",
      "Epoch: 15 | loss: 401.0289612 | time: 32.976 s\n",
      "Epoch: 16 | loss: 393.7432556 | time: 33.082 s\n",
      "Epoch: 17 | loss: 390.2461853 | time: 32.879 s\n",
      "Epoch: 18 | loss: 381.2550964 | time: 32.600 s\n",
      "Epoch: 19 | loss: 377.2796021 | time: 32.573 s\n",
      "Epoch: 20 | loss: 370.4817810 | time: 32.556 s\n",
      "Epoch: 21 | loss: 366.7106934 | time: 32.590 s\n",
      "Epoch: 22 | loss: 367.5843506 | time: 32.591 s\n",
      "Epoch: 23 | loss: 358.7668152 | time: 32.592 s\n",
      "Epoch: 24 | loss: 354.7651672 | time: 32.597 s\n",
      "Epoch: 25 | loss: 353.1795959 | time: 32.607 s\n",
      "Epoch: 26 | loss: 351.7977295 | time: 32.632 s\n",
      "Epoch: 27 | loss: 350.0861206 | time: 32.891 s\n",
      "Epoch: 28 | loss: 343.6575623 | time: 33.979 s\n",
      "Epoch: 29 | loss: 341.5282593 | time: 33.188 s\n",
      "Epoch: 30 | loss: 341.3911438 | time: 32.774 s\n",
      "Epoch: 31 | loss: 343.8813477 | time: 32.725 s\n",
      "Epoch: 32 | loss: 337.7913513 | time: 32.839 s\n",
      "Epoch: 33 | loss: 334.4171753 | time: 32.862 s\n",
      "Epoch: 34 | loss: 331.1824646 | time: 32.804 s\n",
      "Epoch: 35 | loss: 331.3954163 | time: 32.689 s\n",
      "Epoch: 36 | loss: 328.6592407 | time: 32.748 s\n",
      "Epoch: 37 | loss: 327.9328308 | time: 32.829 s\n",
      "Epoch: 38 | loss: 324.8408813 | time: 33.527 s\n",
      "Epoch: 39 | loss: 324.8709106 | time: 33.001 s\n",
      "Epoch: 40 | loss: 325.5048828 | time: 32.793 s\n",
      "Epoch: 41 | loss: 319.6396179 | time: 32.571 s\n",
      "Epoch: 42 | loss: 318.1432800 | time: 32.527 s\n",
      "Epoch: 43 | loss: 315.6700134 | time: 33.552 s\n",
      "Epoch: 44 | loss: 317.9983826 | time: 32.958 s\n",
      "Epoch: 45 | loss: 312.4051514 | time: 32.970 s\n",
      "Epoch: 46 | loss: 313.2250977 | time: 32.771 s\n",
      "Epoch: 47 | loss: 311.7021179 | time: 33.010 s\n",
      "Epoch: 48 | loss: 307.9896240 | time: 32.664 s\n",
      "Epoch: 49 | loss: 308.3654175 | time: 32.646 s\n",
      "Epoch: 50 | loss: 304.8104858 | time: 33.015 s\n",
      "Epoch: 51 | loss: 305.7520447 | time: 32.601 s\n",
      "Epoch: 52 | loss: 307.5887756 | time: 32.543 s\n",
      "Epoch: 53 | loss: 305.3042908 | time: 32.525 s\n",
      "Epoch: 54 | loss: 304.3940430 | time: 32.523 s\n",
      "Epoch: 55 | loss: 301.8202820 | time: 32.531 s\n",
      "Epoch: 56 | loss: 301.7023010 | time: 32.596 s\n",
      "Epoch: 57 | loss: 298.2908630 | time: 32.619 s\n",
      "Epoch: 58 | loss: 300.4910889 | time: 32.579 s\n",
      "Epoch: 59 | loss: 296.2134399 | time: 32.528 s\n",
      "Epoch: 60 | loss: 297.6558533 | time: 32.572 s\n",
      "Epoch: 61 | loss: 293.8518372 | time: 33.067 s\n",
      "Epoch: 62 | loss: 298.7764282 | time: 33.057 s\n",
      "Epoch: 63 | loss: 290.3073120 | time: 33.066 s\n",
      "Epoch: 64 | loss: 293.0651855 | time: 33.086 s\n",
      "Epoch: 65 | loss: 289.2918091 | time: 33.046 s\n",
      "Epoch: 66 | loss: 292.4485474 | time: 33.592 s\n",
      "Epoch: 67 | loss: 290.9709167 | time: 33.424 s\n",
      "Epoch: 68 | loss: 291.9710999 | time: 33.328 s\n",
      "Epoch: 69 | loss: 285.2914429 | time: 33.066 s\n",
      "Epoch: 70 | loss: 287.0736084 | time: 32.971 s\n",
      "Epoch: 71 | loss: 289.3901367 | time: 32.761 s\n",
      "Epoch: 72 | loss: 288.4710388 | time: 32.629 s\n",
      "Epoch: 73 | loss: 287.1735840 | time: 32.611 s\n",
      "Epoch: 74 | loss: 285.0169067 | time: 32.619 s\n",
      "Epoch: 75 | loss: 283.7426758 | time: 32.646 s\n",
      "Epoch: 76 | loss: 282.3040771 | time: 32.623 s\n",
      "Epoch: 77 | loss: 284.0587769 | time: 32.636 s\n",
      "Epoch: 78 | loss: 284.5114746 | time: 32.597 s\n",
      "Epoch: 79 | loss: 281.7245789 | time: 32.629 s\n",
      "Epoch: 80 | loss: 281.7496033 | time: 32.555 s\n",
      "Epoch: 81 | loss: 280.2803650 | time: 32.550 s\n",
      "Epoch: 82 | loss: 282.4602356 | time: 32.554 s\n",
      "Epoch: 83 | loss: 281.8458252 | time: 32.571 s\n",
      "Epoch: 84 | loss: 277.6174927 | time: 32.535 s\n",
      "Epoch: 85 | loss: 279.1201172 | time: 32.547 s\n",
      "Epoch: 86 | loss: 280.8643799 | time: 32.572 s\n",
      "Epoch: 87 | loss: 278.4898376 | time: 32.550 s\n",
      "Epoch: 88 | loss: 281.5689087 | time: 32.569 s\n",
      "Epoch: 89 | loss: 277.4120483 | time: 32.540 s\n",
      "Epoch: 90 | loss: 273.6315613 | time: 32.712 s\n",
      "Epoch: 91 | loss: 280.4001465 | time: 32.599 s\n",
      "Epoch: 92 | loss: 277.4255981 | time: 32.628 s\n",
      "Epoch: 93 | loss: 276.0648499 | time: 32.633 s\n",
      "Epoch: 94 | loss: 274.3489990 | time: 32.669 s\n",
      "Epoch: 95 | loss: 273.5470886 | time: 32.617 s\n",
      "Epoch: 96 | loss: 273.7619629 | time: 32.632 s\n",
      "Epoch: 97 | loss: 273.3499146 | time: 32.661 s\n",
      "Epoch: 98 | loss: 275.0268555 | time: 32.643 s\n",
      "Epoch: 99 | loss: 274.0467224 | time: 32.641 s\n"
     ]
    }
   ],
   "source": [
    "num_epochs = 100\n",
    "\n",
    "for epoch in range(num_epochs):\n",
    "    start = time.time()\n",
    "    running_loss = 0\n",
    "    for i, data in enumerate(trainloader):\n",
    "        images, labels = data\n",
    "\n",
    "        images = images.cuda()\n",
    "        labels = labels.cuda()\n",
    "\n",
    "        if debug_mode:\n",
    "            imshow(torchvision.utils.make_grid(images))\n",
    "            plt.show()\n",
    "            print([classes[lab] for lab in labels.clone().cpu().numpy()])\n",
    "        \n",
    "        optimizer.zero_grad()\n",
    "\n",
    "        outputs = net(images)\n",
    "        \n",
    "        if debug_mode:\n",
    "            print(images.shape)\n",
    "            print(outputs)\n",
    "            \n",
    "        loss = criterion(outputs, labels)\n",
    "\n",
    "        loss.backward()\n",
    "        optimizer.step()\n",
    "\n",
    "        running_loss += loss\n",
    "        \n",
    "    end = time.time()\n",
    "    print(f'Epoch: {epoch} | loss: {running_loss:0.7f} | time: {end - start:0.3f} s')"
   ]
  },
  {
   "cell_type": "markdown",
   "metadata": {},
   "source": [
    "## Test"
   ]
  },
  {
   "cell_type": "code",
   "execution_count": 12,
   "metadata": {},
   "outputs": [],
   "source": [
    "net.eval()\n",
    "\n",
    "correct=0\n",
    "total=0\n",
    "for data in testloader:\n",
    "    images,labels = data\n",
    "    images = images.cuda()\n",
    "    labels = labels.cuda()\n",
    "    outputs = net(images)\n",
    "    _, predicted = torch.max(outputs, dim=1)\n",
    "    total += labels.size(0)\n",
    "    correct += (predicted == labels).sum()"
   ]
  },
  {
   "cell_type": "code",
   "execution_count": 22,
   "metadata": {},
   "outputs": [
    {
     "name": "stdout",
     "output_type": "stream",
     "text": [
      "Accuracy of the network on the 10000 test images: 88.7400%\n"
     ]
    }
   ],
   "source": [
    "print(f'Accuracy of the network on the {total} test images: {correct.to(dtype=torch.float) / float(total):.4%}')"
   ]
  }
 ],
 "metadata": {
  "kernelspec": {
   "display_name": "Python 3",
   "language": "python",
   "name": "python3"
  },
  "language_info": {
   "codemirror_mode": {
    "name": "ipython",
    "version": 3
   },
   "file_extension": ".py",
   "mimetype": "text/x-python",
   "name": "python",
   "nbconvert_exporter": "python",
   "pygments_lexer": "ipython3",
   "version": "3.6.5"
  }
 },
 "nbformat": 4,
 "nbformat_minor": 2
}
