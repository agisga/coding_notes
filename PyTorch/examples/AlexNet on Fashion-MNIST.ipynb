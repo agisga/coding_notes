{
 "cells": [
  {
   "cell_type": "markdown",
   "metadata": {},
   "source": [
    "# AlexNet of Fashion-MNIST"
   ]
  },
  {
   "cell_type": "code",
   "execution_count": 1,
   "metadata": {},
   "outputs": [],
   "source": [
    "import cv2\n",
    "import torch\n",
    "import time\n",
    "import torch.nn as nn\n",
    "import torch.nn.functional as F\n",
    "import torchvision\n",
    "import torchvision.transforms as transforms\n",
    "from torch import optim\n",
    "from torch.autograd import Variable\n",
    "from torch.utils.data import DataLoader\n",
    "from torchvision.transforms import ToPILImage\n",
    "show=ToPILImage()\n",
    "\n",
    "import numpy as np\n",
    "import matplotlib.pyplot as plt\n",
    "%matplotlib inline"
   ]
  },
  {
   "cell_type": "code",
   "execution_count": 2,
   "metadata": {},
   "outputs": [
    {
     "name": "stdout",
     "output_type": "stream",
     "text": [
      "cuda:0\n"
     ]
    }
   ],
   "source": [
    "device = torch.device('cuda:0' if torch.cuda.is_available() else 'cpu')\n",
    "print(device)"
   ]
  },
  {
   "cell_type": "code",
   "execution_count": 3,
   "metadata": {},
   "outputs": [
    {
     "data": {
      "text/plain": [
       "'GeForce GTX 1080 Ti'"
      ]
     },
     "execution_count": 3,
     "metadata": {},
     "output_type": "execute_result"
    }
   ],
   "source": [
    "torch.cuda.get_device_name(0)"
   ]
  },
  {
   "cell_type": "code",
   "execution_count": 4,
   "metadata": {},
   "outputs": [],
   "source": [
    "batch_size = 32 #512\n",
    "resize = 32\n",
    "mean = (0.1307,)\n",
    "std = (0.3081,)"
   ]
  },
  {
   "cell_type": "code",
   "execution_count": 5,
   "metadata": {},
   "outputs": [],
   "source": [
    "def imshow(img):\n",
    "    img_clone = img.clone().cpu()\n",
    "    img_clone = img_clone / 2 + 0.5\n",
    "    npimg = img_clone.numpy()\n",
    "    plt.imshow(np.transpose(npimg, (1, 2, 0)))"
   ]
  },
  {
   "cell_type": "markdown",
   "metadata": {},
   "source": [
    "## Load data"
   ]
  },
  {
   "cell_type": "code",
   "execution_count": 6,
   "metadata": {},
   "outputs": [],
   "source": [
    "transform = transforms.Compose([transforms.Resize((resize, resize)),\n",
    "                                transforms.ToTensor(),\n",
    "                                transforms.Normalize(mean, std)])\n",
    "\n",
    "trainset = torchvision.datasets.FashionMNIST(root='./data', train=True,\n",
    "                                             download=True, transform=transform)\n",
    "trainloader = torch.utils.data.DataLoader(trainset, batch_size=batch_size,\n",
    "                                          shuffle=True, num_workers=0)\n",
    "\n",
    "testset = torchvision.datasets.FashionMNIST(root='./data', train=False,\n",
    "                                            download=True, transform=transform)\n",
    "testloader = torch.utils.data.DataLoader(testset, batch_size=batch_size,\n",
    "                                         shuffle=False, num_workers=0)"
   ]
  },
  {
   "cell_type": "code",
   "execution_count": 7,
   "metadata": {},
   "outputs": [],
   "source": [
    "classes = {0: \"T-shirt/top\",\n",
    "           1: \"Trouser\",\n",
    "           2: \"Pullover\",\n",
    "           3: \"Dress\",\n",
    "           4: \"Coat\",\n",
    "           5: \"Sandal\",\n",
    "           6: \"Shirt\",\n",
    "           7: \"Sneaker\",\n",
    "           8: \"Bag\",\n",
    "           9: \"Ankle boot\"}"
   ]
  },
  {
   "cell_type": "markdown",
   "metadata": {},
   "source": [
    "## Network"
   ]
  },
  {
   "cell_type": "code",
   "execution_count": 8,
   "metadata": {},
   "outputs": [],
   "source": [
    "class AlexNet(nn.Module):\n",
    "\n",
    "    def __init__(self, num_classes=10, input_channels=1):\n",
    "        super().__init__()\n",
    "        \n",
    "        self.features = nn.Sequential(\n",
    "            nn.Conv2d(input_channels, 64, kernel_size=11, stride=4, padding=5),\n",
    "            nn.ReLU(inplace=True),\n",
    "            nn.MaxPool2d(kernel_size=2, stride=2),\n",
    "            nn.Conv2d(64, 192, kernel_size=5, padding=2),\n",
    "            nn.ReLU(inplace=True),\n",
    "            nn.MaxPool2d(kernel_size=2, stride=2),\n",
    "            nn.Conv2d(192, 384, kernel_size=3, padding=1),\n",
    "            nn.ReLU(inplace=True),\n",
    "            nn.Conv2d(384, 256, kernel_size=3, padding=1),\n",
    "            nn.ReLU(inplace=True),\n",
    "            nn.Conv2d(256, 256, kernel_size=3, padding=1),\n",
    "            nn.ReLU(inplace=True),\n",
    "            nn.MaxPool2d(kernel_size=2, stride=2),\n",
    "        )\n",
    "        self.classifier = nn.Linear(256, num_classes)\n",
    "\n",
    "    def forward(self, x):\n",
    "        x = self.features(x)\n",
    "        x = x.view(x.size(0), -1)\n",
    "        x = self.classifier(x)\n",
    "        return x"
   ]
  },
  {
   "cell_type": "code",
   "execution_count": 9,
   "metadata": {
    "scrolled": true
   },
   "outputs": [
    {
     "name": "stdout",
     "output_type": "stream",
     "text": [
      "AlexNet(\n",
      "  (features): Sequential(\n",
      "    (0): Conv2d(1, 64, kernel_size=(11, 11), stride=(4, 4), padding=(5, 5))\n",
      "    (1): ReLU(inplace)\n",
      "    (2): MaxPool2d(kernel_size=2, stride=2, padding=0, dilation=1, ceil_mode=False)\n",
      "    (3): Conv2d(64, 192, kernel_size=(5, 5), stride=(1, 1), padding=(2, 2))\n",
      "    (4): ReLU(inplace)\n",
      "    (5): MaxPool2d(kernel_size=2, stride=2, padding=0, dilation=1, ceil_mode=False)\n",
      "    (6): Conv2d(192, 384, kernel_size=(3, 3), stride=(1, 1), padding=(1, 1))\n",
      "    (7): ReLU(inplace)\n",
      "    (8): Conv2d(384, 256, kernel_size=(3, 3), stride=(1, 1), padding=(1, 1))\n",
      "    (9): ReLU(inplace)\n",
      "    (10): Conv2d(256, 256, kernel_size=(3, 3), stride=(1, 1), padding=(1, 1))\n",
      "    (11): ReLU(inplace)\n",
      "    (12): MaxPool2d(kernel_size=2, stride=2, padding=0, dilation=1, ceil_mode=False)\n",
      "  )\n",
      "  (classifier): Linear(in_features=256, out_features=10, bias=True)\n",
      ")\n"
     ]
    }
   ],
   "source": [
    "net = AlexNet().cuda()\n",
    "print(net)"
   ]
  },
  {
   "cell_type": "markdown",
   "metadata": {},
   "source": [
    "## Training"
   ]
  },
  {
   "cell_type": "code",
   "execution_count": 10,
   "metadata": {},
   "outputs": [],
   "source": [
    "criterion=nn.CrossEntropyLoss()\n",
    "optimizer=optim.Adam(net.parameters(),lr=0.001, weight_decay=5e-4)"
   ]
  },
  {
   "cell_type": "code",
   "execution_count": 11,
   "metadata": {},
   "outputs": [],
   "source": [
    "debug_mode = False"
   ]
  },
  {
   "cell_type": "code",
   "execution_count": 12,
   "metadata": {},
   "outputs": [
    {
     "name": "stdout",
     "output_type": "stream",
     "text": [
      "Epoch: 0 | loss: 968.8456421 | time: 28.950 s\n",
      "Epoch: 1 | loss: 658.5689697 | time: 28.312 s\n",
      "Epoch: 2 | loss: 590.6651001 | time: 28.398 s\n",
      "Epoch: 3 | loss: 545.9324951 | time: 28.494 s\n",
      "Epoch: 4 | loss: 519.1873169 | time: 28.524 s\n",
      "Epoch: 5 | loss: 496.8948669 | time: 28.171 s\n",
      "Epoch: 6 | loss: 475.8588257 | time: 28.318 s\n",
      "Epoch: 7 | loss: 462.8978271 | time: 28.262 s\n",
      "Epoch: 8 | loss: 448.2656860 | time: 28.296 s\n",
      "Epoch: 9 | loss: 441.5274048 | time: 28.209 s\n",
      "Epoch: 10 | loss: 431.1635437 | time: 28.318 s\n",
      "Epoch: 11 | loss: 426.8786316 | time: 28.433 s\n",
      "Epoch: 12 | loss: 415.0750732 | time: 28.239 s\n",
      "Epoch: 13 | loss: 409.8858948 | time: 28.173 s\n",
      "Epoch: 14 | loss: 398.1006775 | time: 28.371 s\n",
      "Epoch: 15 | loss: 394.2907104 | time: 28.322 s\n",
      "Epoch: 16 | loss: 389.6551208 | time: 28.241 s\n",
      "Epoch: 17 | loss: 383.8843994 | time: 28.348 s\n",
      "Epoch: 18 | loss: 378.9812012 | time: 28.282 s\n",
      "Epoch: 19 | loss: 372.3363342 | time: 28.289 s\n",
      "Epoch: 20 | loss: 368.4988708 | time: 28.330 s\n",
      "Epoch: 21 | loss: 371.4113159 | time: 28.348 s\n",
      "Epoch: 22 | loss: 366.5863037 | time: 28.266 s\n",
      "Epoch: 23 | loss: 358.1635742 | time: 28.280 s\n",
      "Epoch: 24 | loss: 357.4398804 | time: 28.290 s\n",
      "Epoch: 25 | loss: 357.2474365 | time: 28.187 s\n",
      "Epoch: 26 | loss: 351.5106812 | time: 28.229 s\n",
      "Epoch: 27 | loss: 345.4564209 | time: 28.350 s\n",
      "Epoch: 28 | loss: 346.7618103 | time: 28.231 s\n",
      "Epoch: 29 | loss: 342.5802612 | time: 28.263 s\n",
      "Epoch: 30 | loss: 343.1157227 | time: 28.293 s\n",
      "Epoch: 31 | loss: 342.0787048 | time: 28.297 s\n",
      "Epoch: 32 | loss: 336.6484985 | time: 28.273 s\n",
      "Epoch: 33 | loss: 332.6214905 | time: 28.190 s\n",
      "Epoch: 34 | loss: 333.5329895 | time: 28.256 s\n",
      "Epoch: 35 | loss: 328.8103333 | time: 28.180 s\n",
      "Epoch: 36 | loss: 329.7100220 | time: 28.354 s\n",
      "Epoch: 37 | loss: 324.0292053 | time: 28.364 s\n",
      "Epoch: 38 | loss: 329.7121887 | time: 28.280 s\n",
      "Epoch: 39 | loss: 320.7854614 | time: 28.186 s\n",
      "Epoch: 40 | loss: 318.2444458 | time: 28.153 s\n",
      "Epoch: 41 | loss: 320.3553162 | time: 28.249 s\n",
      "Epoch: 42 | loss: 315.5335083 | time: 28.365 s\n",
      "Epoch: 43 | loss: 318.7046509 | time: 28.338 s\n",
      "Epoch: 44 | loss: 314.4008179 | time: 28.147 s\n",
      "Epoch: 45 | loss: 315.6585388 | time: 28.060 s\n",
      "Epoch: 46 | loss: 313.2624512 | time: 28.090 s\n",
      "Epoch: 47 | loss: 312.4552917 | time: 28.375 s\n",
      "Epoch: 48 | loss: 309.2138977 | time: 28.188 s\n",
      "Epoch: 49 | loss: 313.1199951 | time: 28.335 s\n",
      "Epoch: 50 | loss: 309.1836853 | time: 28.216 s\n",
      "Epoch: 51 | loss: 312.1172791 | time: 28.204 s\n",
      "Epoch: 52 | loss: 309.3704529 | time: 28.129 s\n",
      "Epoch: 53 | loss: 306.4052429 | time: 28.184 s\n",
      "Epoch: 54 | loss: 308.9258423 | time: 28.161 s\n",
      "Epoch: 55 | loss: 304.4675598 | time: 28.166 s\n",
      "Epoch: 56 | loss: 300.8286438 | time: 28.309 s\n",
      "Epoch: 57 | loss: 299.2108459 | time: 28.137 s\n",
      "Epoch: 58 | loss: 299.0859985 | time: 28.147 s\n",
      "Epoch: 59 | loss: 299.6933289 | time: 28.159 s\n",
      "Epoch: 60 | loss: 303.5770569 | time: 28.114 s\n",
      "Epoch: 61 | loss: 298.7693481 | time: 28.182 s\n",
      "Epoch: 62 | loss: 296.0742188 | time: 28.159 s\n",
      "Epoch: 63 | loss: 294.5204468 | time: 28.153 s\n",
      "Epoch: 64 | loss: 295.8984070 | time: 28.250 s\n",
      "Epoch: 65 | loss: 295.7866821 | time: 28.308 s\n",
      "Epoch: 66 | loss: 293.6759644 | time: 28.276 s\n",
      "Epoch: 67 | loss: 291.0900574 | time: 28.149 s\n",
      "Epoch: 68 | loss: 293.5238342 | time: 28.267 s\n",
      "Epoch: 69 | loss: 290.9804993 | time: 28.271 s\n",
      "Epoch: 70 | loss: 293.8833008 | time: 28.181 s\n",
      "Epoch: 71 | loss: 289.2591248 | time: 28.181 s\n",
      "Epoch: 72 | loss: 286.8597107 | time: 28.205 s\n",
      "Epoch: 73 | loss: 290.6267090 | time: 28.152 s\n",
      "Epoch: 74 | loss: 284.7779846 | time: 28.202 s\n",
      "Epoch: 75 | loss: 290.7581177 | time: 28.278 s\n",
      "Epoch: 76 | loss: 289.1747437 | time: 28.273 s\n",
      "Epoch: 77 | loss: 283.4405823 | time: 28.212 s\n",
      "Epoch: 78 | loss: 288.1688538 | time: 28.111 s\n",
      "Epoch: 79 | loss: 286.3369751 | time: 28.309 s\n",
      "Epoch: 80 | loss: 282.5882568 | time: 28.266 s\n",
      "Epoch: 81 | loss: 283.1091003 | time: 28.270 s\n",
      "Epoch: 82 | loss: 282.9604492 | time: 28.176 s\n",
      "Epoch: 83 | loss: 284.6804504 | time: 28.181 s\n",
      "Epoch: 84 | loss: 286.3903809 | time: 28.376 s\n",
      "Epoch: 85 | loss: 279.5923767 | time: 28.239 s\n",
      "Epoch: 86 | loss: 278.1292419 | time: 28.139 s\n",
      "Epoch: 87 | loss: 285.7436829 | time: 28.124 s\n",
      "Epoch: 88 | loss: 279.8915100 | time: 28.173 s\n",
      "Epoch: 89 | loss: 277.1203918 | time: 28.212 s\n",
      "Epoch: 90 | loss: 278.3286438 | time: 28.275 s\n",
      "Epoch: 91 | loss: 280.5792236 | time: 28.259 s\n",
      "Epoch: 92 | loss: 273.9318848 | time: 28.738 s\n",
      "Epoch: 93 | loss: 279.4201050 | time: 28.274 s\n",
      "Epoch: 94 | loss: 276.0104370 | time: 28.249 s\n",
      "Epoch: 95 | loss: 276.8697205 | time: 28.309 s\n",
      "Epoch: 96 | loss: 277.5176392 | time: 28.431 s\n",
      "Epoch: 97 | loss: 276.4383850 | time: 28.438 s\n",
      "Epoch: 98 | loss: 276.1437073 | time: 28.440 s\n",
      "Epoch: 99 | loss: 273.6171570 | time: 28.356 s\n"
     ]
    }
   ],
   "source": [
    "num_epochs = 100\n",
    "\n",
    "for epoch in range(num_epochs):\n",
    "    start = time.time()\n",
    "    running_loss = 0\n",
    "    for i, data in enumerate(trainloader):\n",
    "        images, labels = data\n",
    "\n",
    "        images = images.cuda()\n",
    "        labels = labels.cuda()\n",
    "\n",
    "        if debug_mode:\n",
    "            imshow(torchvision.utils.make_grid(images))\n",
    "            plt.show()\n",
    "            print([classes[lab] for lab in labels.clone().cpu().numpy()])\n",
    "        \n",
    "        optimizer.zero_grad()\n",
    "\n",
    "        outputs = net(images)\n",
    "        \n",
    "        if debug_mode:\n",
    "            print(images.shape)\n",
    "            print(outputs)\n",
    "            \n",
    "        loss = criterion(outputs, labels)\n",
    "\n",
    "        loss.backward()\n",
    "        optimizer.step()\n",
    "\n",
    "        running_loss += loss\n",
    "        \n",
    "    end = time.time()\n",
    "    print(f'Epoch: {epoch} | loss: {running_loss:0.7f} | time: {end - start:0.3f} s')"
   ]
  },
  {
   "cell_type": "markdown",
   "metadata": {},
   "source": [
    "## Test"
   ]
  },
  {
   "cell_type": "code",
   "execution_count": 13,
   "metadata": {},
   "outputs": [],
   "source": [
    "net.eval()\n",
    "\n",
    "correct=0\n",
    "total=0\n",
    "for data in testloader:\n",
    "    images,labels = data\n",
    "    images = images.cuda()\n",
    "    labels = labels.cuda()\n",
    "    outputs = net(images)\n",
    "    _, predicted = torch.max(outputs, dim=1)\n",
    "    total += labels.size(0)\n",
    "    correct += (predicted == labels).sum()"
   ]
  },
  {
   "cell_type": "code",
   "execution_count": 14,
   "metadata": {},
   "outputs": [
    {
     "name": "stdout",
     "output_type": "stream",
     "text": [
      "Accuracy of the network on the 10000 test images: 88.8500%\n"
     ]
    }
   ],
   "source": [
    "print(f'Accuracy of the network on the {total} test images: {correct.to(dtype=torch.float) / float(total):.4%}')"
   ]
  }
 ],
 "metadata": {
  "kernelspec": {
   "display_name": "Python 3",
   "language": "python",
   "name": "python3"
  },
  "language_info": {
   "codemirror_mode": {
    "name": "ipython",
    "version": 3
   },
   "file_extension": ".py",
   "mimetype": "text/x-python",
   "name": "python",
   "nbconvert_exporter": "python",
   "pygments_lexer": "ipython3",
   "version": "3.6.5"
  }
 },
 "nbformat": 4,
 "nbformat_minor": 2
}
